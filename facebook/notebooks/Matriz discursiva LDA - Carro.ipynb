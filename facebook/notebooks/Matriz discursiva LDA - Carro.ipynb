{
 "cells": [
  {
   "cell_type": "code",
   "execution_count": 1,
   "metadata": {
    "collapsed": false,
    "deletable": true,
    "editable": true
   },
   "outputs": [],
   "source": [
    "import warnings\n",
    "\n",
    "import pandas as pd\n",
    "import numpy as np\n",
    "import pickle\n",
    "import operator\n",
    "import re\n",
    "import gc\n",
    "import gensim\n",
    "\n",
    "import json"
   ]
  },
  {
   "cell_type": "code",
   "execution_count": 2,
   "metadata": {
    "collapsed": true
   },
   "outputs": [],
   "source": [
    "# TM_MODELS_PATH = '/media/pablo/data/Tesis/models/old/tm_feats/'\n",
    "from os.path import join"
   ]
  },
  {
   "cell_type": "code",
   "execution_count": 6,
   "metadata": {
    "collapsed": false
   },
   "outputs": [],
   "source": [
    "df = pd.read_csv('/home/pablo/GDrive/BigSocialData/facebook/data/raw/reporte_07_26/pablocarrook/posts.csv')\n",
    "posts_text = list(df.message[df.message.notnull()].values)"
   ]
  },
  {
   "cell_type": "code",
   "execution_count": 7,
   "metadata": {
    "collapsed": false
   },
   "outputs": [
    {
     "data": {
      "text/plain": [
       "78"
      ]
     },
     "execution_count": 7,
     "metadata": {},
     "output_type": "execute_result"
    }
   ],
   "source": [
    "len(posts_text)"
   ]
  },
  {
   "cell_type": "code",
   "execution_count": 8,
   "metadata": {
    "collapsed": true,
    "deletable": true,
    "editable": true
   },
   "outputs": [],
   "source": [
    "corpus = posts_text"
   ]
  },
  {
   "cell_type": "code",
   "execution_count": 9,
   "metadata": {
    "collapsed": true,
    "deletable": true,
    "editable": true
   },
   "outputs": [],
   "source": [
    "def preprocess(doc):\n",
    "    pre_doc = doc\n",
    "        \n",
    "    # remover URLs\n",
    "    pre_doc = re.sub(\n",
    "        r\"https?://(?:[a-zA-Z]|[0-9]|[$-_@.&+]|[!*\\(\\),]|(?:%[0-9a-fA-F][0-9a-fA-F]))+\",\n",
    "        \" \", pre_doc)\n",
    "    \n",
    "    # minúsculas\n",
    "    pre_doc = pre_doc.lower()\n",
    "\n",
    "    # volar acentos\n",
    "    pre_doc = gensim.utils.deaccent(pre_doc)\n",
    "\n",
    "    # remove bullshit\n",
    "    pre_doc = re.sub(r\"\\@|\\'|\\\"|\\\\|…|\\/|\\-|\\||\\(|\\)|\\.|\\,|\\!|\\?|\\:|\\;|“|”|’|—\", \" \", pre_doc)\n",
    "    \n",
    "    # contraer vocales\n",
    "    for v in 'aeiou':\n",
    "        pre_doc = re.sub(r\"[%s]+\" % v, v, pre_doc)    \n",
    "    \n",
    "    # normalizar espacio en blanco\n",
    "    pre_doc = re.sub(r\"\\s+\", \" \", pre_doc)\n",
    "    pre_doc = re.sub(r\"(^\\s)|(\\s$)\", \"\", pre_doc)\n",
    "    \n",
    "    return pre_doc"
   ]
  },
  {
   "cell_type": "code",
   "execution_count": 10,
   "metadata": {
    "collapsed": true
   },
   "outputs": [],
   "source": [
    "from collections import defaultdict"
   ]
  },
  {
   "cell_type": "code",
   "execution_count": 11,
   "metadata": {
    "collapsed": true
   },
   "outputs": [],
   "source": [
    "UNSTEMMED = {}"
   ]
  },
  {
   "cell_type": "code",
   "execution_count": 12,
   "metadata": {
    "collapsed": true,
    "deletable": true,
    "editable": true
   },
   "outputs": [],
   "source": [
    "from nltk.corpus import stopwords\n",
    "from nltk import word_tokenize\n",
    "from nltk.data import load\n",
    "from nltk.stem import SnowballStemmer\n",
    "from string import punctuation\n",
    "\n",
    "spanish_tokenizer = load('tokenizers/punkt/spanish.pickle')\n",
    "\n",
    "# stopwords en español\n",
    "spanish_stopwords = stopwords.words('spanish')\n",
    "\n",
    "# spanish stemmer\n",
    "stemmer = SnowballStemmer('spanish')\n",
    "\n",
    "# punctuation to remove\n",
    "non_words = list(punctuation)\n",
    "\n",
    "# we add spanish punctuation\n",
    "non_words.extend(['¿', '¡'])\n",
    "non_words.extend(map(str, range(10)))\n",
    "\n",
    "stemmer = SnowballStemmer('spanish')\n",
    "\n",
    "def trystem(t):\n",
    "    try:\n",
    "        s = stemmer.stem(t)\n",
    "        if s not in UNSTEMMED:\n",
    "            UNSTEMMED[s] = defaultdict(int)\n",
    "        UNSTEMMED[s][t] += 1\n",
    "        return s\n",
    "    except Exception:\n",
    "        return t\n",
    "\n",
    "def tokenize(text, stem=True, remove_stopwords=False):\n",
    "    text = text.lower()\n",
    "    result = []\n",
    "    \n",
    "    for sentence in spanish_tokenizer.tokenize(text):\n",
    "        # remover puntuación\n",
    "        text = ''.join([c for c in sentence if c not in non_words])\n",
    "        \n",
    "        # tokenize\n",
    "        tokens = word_tokenize(text)\n",
    "\n",
    "        if remove_stopwords:\n",
    "            tokens = [t for t in tokens if t not in spanish_stopwords]\n",
    "\n",
    "        # tokens de al menos 2 letras\n",
    "        tokens = [t for t in tokens if len(t) > 1]\n",
    "            \n",
    "        # stem\n",
    "        if stem:\n",
    "            tokens = [trystem(t) for t in tokens]\n",
    "        \n",
    "        result += tokens\n",
    "        \n",
    "    return result"
   ]
  },
  {
   "cell_type": "code",
   "execution_count": 13,
   "metadata": {
    "collapsed": true,
    "deletable": true,
    "editable": true
   },
   "outputs": [],
   "source": [
    "import logging\n",
    "logging.basicConfig(format='%(asctime)s : %(levelname)s : %(message)s', level=logging.INFO)"
   ]
  },
  {
   "cell_type": "code",
   "execution_count": 14,
   "metadata": {
    "collapsed": true,
    "deletable": true,
    "editable": true
   },
   "outputs": [],
   "source": [
    "class get_docs(object):\n",
    "    def __init__(self, corpus):\n",
    "        self.corpus = corpus\n",
    "\n",
    "    def __iter__(self):\n",
    "        for doc in self.corpus:\n",
    "            tokens = tokenize(preprocess(doc), remove_stopwords=True)\n",
    "            yield tokens"
   ]
  },
  {
   "cell_type": "code",
   "execution_count": 15,
   "metadata": {
    "collapsed": true
   },
   "outputs": [],
   "source": [
    "from gensim.models.phrases import Phrases"
   ]
  },
  {
   "cell_type": "code",
   "execution_count": 16,
   "metadata": {
    "collapsed": false,
    "deletable": true,
    "editable": true
   },
   "outputs": [],
   "source": [
    "phrases = Phrases(get_docs(corpus), min_count=5)\n",
    "# bigram = Phraser(phrases)\n",
    "# trigram = Phrases(bigram[get_docs(corpus)], min_count=5)\n",
    "# dictionary = gensim.corpora.Dictionary(trigram[get_docs(corpus)])"
   ]
  },
  {
   "cell_type": "code",
   "execution_count": 17,
   "metadata": {
    "collapsed": false,
    "deletable": true,
    "editable": true
   },
   "outputs": [],
   "source": [
    "dictionary = gensim.corpora.Dictionary(phrases[get_docs(corpus)])\n",
    "dictionary.filter_extremes(no_below=5, no_above=0.3, keep_n=None)"
   ]
  },
  {
   "cell_type": "code",
   "execution_count": 18,
   "metadata": {
    "collapsed": false
   },
   "outputs": [
    {
     "data": {
      "text/plain": [
       "83"
      ]
     },
     "execution_count": 18,
     "metadata": {},
     "output_type": "execute_result"
    }
   ],
   "source": [
    "len(dictionary.dfs)"
   ]
  },
  {
   "cell_type": "code",
   "execution_count": 19,
   "metadata": {
    "collapsed": false,
    "deletable": true,
    "editable": true
   },
   "outputs": [],
   "source": [
    "bow = [dictionary.doc2bow(doc) for doc in phrases[get_docs(corpus)]]"
   ]
  },
  {
   "cell_type": "code",
   "execution_count": 20,
   "metadata": {
    "collapsed": true
   },
   "outputs": [],
   "source": [
    "from math import ceil\n",
    "iters = 100\n",
    "passes = 10\n",
    "workers = 7\n",
    "n_topics = 10\n",
    "chunksize = int(ceil(len(bow)*1.0/workers))"
   ]
  },
  {
   "cell_type": "code",
   "execution_count": 21,
   "metadata": {
    "collapsed": false
   },
   "outputs": [],
   "source": [
    "model = gensim.models.LdaMulticore(\n",
    "        corpus=bow,\n",
    "        id2word=dictionary,\n",
    "        num_topics=n_topics,\n",
    "        iterations=iters,\n",
    "        alpha=0.001,\n",
    "        passes=passes,\n",
    "        chunksize=chunksize,\n",
    "        workers=workers\n",
    ")"
   ]
  },
  {
   "cell_type": "code",
   "execution_count": 22,
   "metadata": {
    "collapsed": true
   },
   "outputs": [],
   "source": [
    "import pyLDAvis.gensim\n",
    "import pyLDAvis"
   ]
  },
  {
   "cell_type": "code",
   "execution_count": 23,
   "metadata": {
    "collapsed": true
   },
   "outputs": [],
   "source": [
    "def unstemw(w):\n",
    "    if w not in UNSTEMMED:\n",
    "        return w\n",
    "    else:\n",
    "        return sorted(UNSTEMMED[w].items(), key=lambda x: -x[1])[0][0] # más frecuente"
   ]
  },
  {
   "cell_type": "code",
   "execution_count": 24,
   "metadata": {
    "collapsed": true
   },
   "outputs": [],
   "source": [
    "def unstemp(p):\n",
    "    words = p.split('_')\n",
    "    \n",
    "    return '_'.join([unstemw(w) or w for w in words])"
   ]
  },
  {
   "cell_type": "code",
   "execution_count": 25,
   "metadata": {
    "collapsed": false
   },
   "outputs": [],
   "source": [
    "model.id2word.token2id = {unstemp(p): i  for p, i in model.id2word.token2id.items()}"
   ]
  },
  {
   "cell_type": "code",
   "execution_count": 26,
   "metadata": {
    "collapsed": false
   },
   "outputs": [],
   "source": [
    "viz = pyLDAvis.gensim.prepare(model, [v for v in bow], model.id2word)"
   ]
  },
  {
   "cell_type": "code",
   "execution_count": 27,
   "metadata": {
    "collapsed": false
   },
   "outputs": [
    {
     "data": {
      "text/html": [
       "\n",
       "<link rel=\"stylesheet\" type=\"text/css\" href=\"https://cdn.rawgit.com/bmabey/pyLDAvis/files/ldavis.v1.0.0.css\">\n",
       "\n",
       "\n",
       "<div id=\"ldavis_el126181396302246951205438987837\"></div>\n",
       "<script type=\"text/javascript\">\n",
       "\n",
       "var ldavis_el126181396302246951205438987837_data = {\"plot.opts\": {\"xlab\": \"PC1\", \"ylab\": \"PC2\"}, \"topic.order\": [5, 9, 4, 1, 2, 8, 10, 7, 6, 3], \"token.table\": {\"Topic\": [4, 5, 8, 10, 3, 4, 6, 7, 10, 1, 2, 3, 4, 6, 7, 8, 1, 5, 6, 2, 4, 6, 8, 9, 10, 1, 4, 6, 1, 2, 3, 8, 9, 5, 8, 1, 3, 1, 3, 4, 7, 1, 3, 4, 2, 4, 6, 7, 8, 3, 6, 7, 4, 6, 9, 10, 1, 5, 6, 8, 1, 2, 3, 5, 6, 8, 9, 4, 6, 8, 2, 3, 5, 8, 9, 10, 1, 4, 7, 2, 6, 9, 1, 2, 3, 7, 1, 4, 6, 1, 2, 4, 7, 10, 1, 3, 1, 2, 4, 7, 1, 3, 7, 5, 6, 10, 1, 4, 9, 5, 3, 4, 6, 7, 9, 1, 3, 4, 9, 1, 4, 6, 7, 2, 6, 9, 10, 1, 4, 6, 8, 1, 3, 4, 1, 2, 3, 4, 9, 1, 3, 8, 9, 3, 4, 6, 8, 2, 5, 6, 1, 5, 8, 2, 7, 10, 1, 3, 5, 1, 9, 1, 3, 1, 3, 10, 2, 3, 4, 1, 2, 3, 6, 7, 9, 1, 2, 4, 6, 7, 9, 10, 3, 4, 6, 8, 1, 2, 3, 7, 5, 10, 1, 2, 3, 4, 7, 10, 3, 4, 1, 3, 4, 5, 6, 8, 9, 10, 4, 6, 8, 1, 2, 7, 9, 2, 6, 7, 2, 3, 8, 1, 4, 9, 1, 4, 6, 7, 9, 4, 7, 8, 1, 3, 6, 7, 1, 2, 3, 5, 6, 8, 1, 3, 3, 4, 1, 3, 4, 8, 10, 2, 9, 2, 3, 4, 6, 2, 3, 4, 3, 5, 8, 10, 4, 5, 8, 10, 3, 8, 1, 3, 9, 1, 4, 4, 7, 9, 2, 4, 6, 8, 9, 10, 1, 3, 4, 5, 8, 10, 1, 5, 6, 8, 1, 2, 5, 9, 5, 8], \"Freq\": [0.17275123364879294, 0.43187808412198236, 0.17275123364879294, 0.17275123364879294, 0.09004563097095374, 0.36018252388381494, 0.18009126194190747, 0.09004563097095374, 0.18009126194190747, 0.06825845637836964, 0.06825845637836964, 0.06825845637836964, 0.06825845637836964, 0.20477536913510888, 0.40955073827021776, 0.06825845637836964, 0.4596656894072875, 0.3064437929381917, 0.15322189646909584, 0.1647195549759904, 0.10981303665066025, 0.3843456282773109, 0.10981303665066025, 0.1647195549759904, 0.10981303665066025, 0.18575546066119375, 0.5572663819835812, 0.18575546066119375, 0.4936428244210034, 0.19745712976840135, 0.09872856488420068, 0.09872856488420068, 0.09872856488420068, 0.8273666612512056, 0.08273666612512057, 0.27808331268313186, 0.6488610629273076, 0.18409665134946554, 0.18409665134946554, 0.18409665134946554, 0.3681933026989311, 0.18232300027173212, 0.4558075006793303, 0.2734845004075982, 0.28367962239085115, 0.05673592447817023, 0.28367962239085115, 0.28367962239085115, 0.11347184895634047, 0.13741337628461478, 0.27482675256922956, 0.5496535051384591, 0.19672345258706006, 0.19672345258706006, 0.3934469051741201, 0.19672345258706006, 0.09130275400017739, 0.4565137700008869, 0.18260550800035477, 0.18260550800035477, 0.3170022802999633, 0.2773769952624679, 0.03962528503749541, 0.11887585511248625, 0.03962528503749541, 0.15850114014998165, 0.03962528503749541, 0.1768790051307422, 0.6190765179575977, 0.1768790051307422, 0.5053374591917731, 0.16844581973059103, 0.08422290986529551, 0.08422290986529551, 0.08422290986529551, 0.08422290986529551, 0.3972385608559743, 0.1324128536186581, 0.2648257072373162, 0.18680394504363396, 0.3736078900872679, 0.18680394504363396, 0.2747131667799362, 0.2747131667799362, 0.2747131667799362, 0.1373565833899681, 0.16016045407168344, 0.4804813622150503, 0.3203209081433669, 0.15422736636198692, 0.15422736636198692, 0.15422736636198692, 0.30845473272397383, 0.15422736636198692, 0.42081545037440604, 0.42081545037440604, 0.2603861911727322, 0.2603861911727322, 0.1301930955863661, 0.2603861911727322, 0.36238810547348277, 0.18119405273674138, 0.36238810547348277, 0.3755904161872496, 0.1877952080936248, 0.1877952080936248, 0.47706628898670084, 0.15902209632890027, 0.31804419265780054, 0.9152964990969918, 0.14247342781356426, 0.14247342781356426, 0.14247342781356426, 0.2849468556271285, 0.14247342781356426, 0.15971953090563443, 0.5590183581697205, 0.15971953090563443, 0.07985976545281721, 0.38017210428637843, 0.15206884171455137, 0.07603442085727569, 0.30413768342910275, 0.12746463182846068, 0.5098585273138427, 0.12746463182846068, 0.12746463182846068, 0.2804942978863649, 0.14024714894318244, 0.14024714894318244, 0.2804942978863649, 0.7221649156772687, 0.12036081927954478, 0.12036081927954478, 0.15894837120534347, 0.15894837120534347, 0.15894837120534347, 0.31789674241068694, 0.15894837120534347, 0.6151615035808234, 0.1230323007161647, 0.1230323007161647, 0.1230323007161647, 0.16601846911124013, 0.33203693822248026, 0.33203693822248026, 0.16601846911124013, 0.3538923865155051, 0.3538923865155051, 0.17694619325775254, 0.08956663684081063, 0.7165330947264851, 0.08956663684081063, 0.4669110869760521, 0.15563702899201737, 0.31127405798403474, 0.5640877360423463, 0.37605849069489755, 0.8029838773364464, 0.1666853689691632, 0.6667414758766528, 0.7696743756741701, 0.15393487513483403, 0.39310853387489264, 0.39310853387489264, 0.13103617795829756, 0.47748229295022093, 0.3183215286334806, 0.1591607643167403, 0.20108244138008868, 0.10054122069004434, 0.10054122069004434, 0.10054122069004434, 0.20108244138008868, 0.20108244138008868, 0.17286691494906142, 0.17286691494906142, 0.11524460996604095, 0.17286691494906142, 0.2304892199320819, 0.11524460996604095, 0.05762230498302048, 0.14548104073454018, 0.29096208146908037, 0.29096208146908037, 0.29096208146908037, 0.19398382023748784, 0.3879676404749757, 0.06466127341249595, 0.3879676404749757, 0.7335953614631564, 0.1833988403657891, 0.06216426571526938, 0.3108213285763469, 0.24865706286107753, 0.06216426571526938, 0.18649279714580813, 0.12432853143053876, 0.6129052705348985, 0.15322631763372463, 0.24784720411574726, 0.04956944082314945, 0.1982777632925978, 0.04956944082314945, 0.0991388816462989, 0.14870832246944835, 0.04956944082314945, 0.0991388816462989, 0.1768790051307422, 0.6190765179575977, 0.1768790051307422, 0.21197225097659078, 0.21197225097659078, 0.31795837646488617, 0.21197225097659078, 0.15523080838944375, 0.46569242516833126, 0.3104616167788875, 0.32555079507806095, 0.32555079507806095, 0.32555079507806095, 0.36903840224293694, 0.36903840224293694, 0.18451920112146847, 0.09319599104232347, 0.3727839641692939, 0.09319599104232347, 0.18639198208464694, 0.18639198208464694, 0.4821314767849449, 0.1607104922616483, 0.3214209845232966, 0.24608255958796516, 0.12304127979398258, 0.3691238393819477, 0.24608255958796516, 0.5440335949490831, 0.18134453164969438, 0.18134453164969438, 0.6530095303013017, 0.10883492171688362, 0.10883492171688362, 0.7280688341736848, 0.24268961139122827, 0.3961700988113714, 0.5282267984151618, 0.16361102075298098, 0.08180551037649049, 0.32722204150596196, 0.16361102075298098, 0.08180551037649049, 0.46739605718017974, 0.3115973714534532, 0.18988359775295877, 0.18988359775295877, 0.18988359775295877, 0.18988359775295877, 0.6710136117223627, 0.09585908738890896, 0.1917181747778179, 0.1629259963597254, 0.4887779890791762, 0.1629259963597254, 0.1629259963597254, 0.16327924861351606, 0.3265584972270321, 0.3265584972270321, 0.16327924861351606, 0.4580247097724654, 0.30534980651497695, 0.5567973882270364, 0.18559912940901213, 0.18559912940901213, 0.7138437089239332, 0.1784609272309833, 0.18109071755901762, 0.5432721526770529, 0.18109071755901762, 0.46601477748917247, 0.07766912958152875, 0.07766912958152875, 0.07766912958152875, 0.1553382591630575, 0.07766912958152875, 0.2863956943224071, 0.2863956943224071, 0.38186092576320946, 0.48559336045480234, 0.3237289069698682, 0.1618644534849341, 0.15951383560438773, 0.15951383560438773, 0.15951383560438773, 0.31902767120877545, 0.21099660569055947, 0.42199321138111895, 0.10549830284527974, 0.10549830284527974, 0.5497964100710814, 0.18326547002369378], \"Term\": [\"acompaname\", \"acompaname\", \"acompaname\", \"acompaname\", \"ahora\", \"ahora\", \"ahora\", \"ahora\", \"ahora\", \"ajuste\", \"ajuste\", \"ajuste\", \"ajuste\", \"ajuste\", \"ajuste\", \"ajuste\", \"aqui\", \"aqui\", \"aqui\", \"asinosepuedeseguir\", \"asinosepuedeseguir\", \"asinosepuedeseguir\", \"asinosepuedeseguir\", \"asinosepuedeseguir\", \"asinosepuedeseguir\", \"cambiemos\", \"cambiemos\", \"cambiemos\", \"campana\", \"campana\", \"campana\", \"campana\", \"campana\", \"canal\", \"canal\", \"candidatos\", \"candidatos\", \"cara\", \"cara\", \"cara\", \"cara\", \"ciudadana\", \"ciudadana\", \"ciudadana\", \"congreso\", \"congreso\", \"congreso\", \"congreso\", \"congreso\", \"construyendo\", \"construyendo\", \"construyendo\", \"contar\", \"contar\", \"contar\", \"contar\", \"conversar\", \"conversar\", \"conversar\", \"conversar\", \"cordoba\", \"cordoba\", \"cordoba\", \"cordoba\", \"cordoba\", \"cordoba\", \"cordoba\", \"cordoba_ciudadana\", \"cordoba_ciudadana\", \"cordoba_ciudadana\", \"cordobeses\", \"cordobeses\", \"cordobeses\", \"cordobeses\", \"cordobeses\", \"cordobeses\", \"cristina\", \"cristina\", \"cristina\", \"dejan\", \"dejan\", \"dejan\", \"derechos\", \"derechos\", \"derechos\", \"derechos\", \"desempleo\", \"desempleo\", \"desempleo\", \"destruyen\", \"destruyen\", \"destruyen\", \"destruyen\", \"destruyen\", \"diputado\", \"diputado\", \"eleccion\", \"eleccion\", \"eleccion\", \"eleccion\", \"encontramos\", \"encontramos\", \"encontramos\", \"entrevista\", \"entrevista\", \"entrevista\", \"esperanza\", \"esperanza\", \"esperanza\", \"estare\", \"freno\", \"freno\", \"freno\", \"freno\", \"freno\", \"frente_cordoba\", \"frente_cordoba\", \"frente_cordoba\", \"frente_cordoba\", \"fuerza\", \"fuerza\", \"fuerza\", \"fuerza\", \"gobierno\", \"gobierno\", \"gobierno\", \"gobierno\", \"gracias\", \"gracias\", \"gracias\", \"gracias\", \"gran\", \"gran\", \"gran\", \"grandes\", \"grandes\", \"grandes\", \"grandes\", \"grandes\", \"hacer\", \"hacer\", \"hacer\", \"hacer\", \"hambre\", \"hambre\", \"hambre\", \"hambre\", \"hoy\", \"hoy\", \"hoy\", \"hs\", \"hs\", \"hs\", \"industria\", \"industria\", \"industria\", \"integran\", \"integran\", \"invitado\", \"jovenes\", \"jovenes\", \"juntos\", \"juntos\", \"lista\", \"lista\", \"lista\", \"llevar\", \"llevar\", \"llevar\", \"lxs\", \"lxs\", \"lxs\", \"lxs\", \"lxs\", \"lxs\", \"macri\", \"macri\", \"macri\", \"macri\", \"macri\", \"macri\", \"macri\", \"manana\", \"manana\", \"manana\", \"manana\", \"mas\", \"mas\", \"mas\", \"mas\", \"minutos\", \"minutos\", \"nacional\", \"nacional\", \"nacional\", \"nacional\", \"nacional\", \"nacional\", \"pablo_carro\", \"pablo_carro\", \"pablocarrodiputado\", \"pablocarrodiputado\", \"pablocarrodiputado\", \"pablocarrodiputado\", \"pablocarrodiputado\", \"pablocarrodiputado\", \"pablocarrodiputado\", \"pablocarrodiputado\", \"pablocarrodiputado_frente\", \"pablocarrodiputado_frente\", \"pablocarrodiputado_frente\", \"pablocarrodiputado_frentecordobaciudadana\", \"pablocarrodiputado_frentecordobaciudadana\", \"pablocarrodiputado_frentecordobaciudadana\", \"pablocarrodiputado_frentecordobaciudadana\", \"pararlos\", \"pararlos\", \"pararlos\", \"paso\", \"paso\", \"paso\", \"pobreza\", \"pobreza\", \"pobreza\", \"politicas\", \"politicas\", \"politicas\", \"politicas\", \"politicas\", \"ponerle\", \"ponerle\", \"ponerle\", \"ponerle_freno\", \"ponerle_freno\", \"ponerle_freno\", \"ponerle_freno\", \"popular\", \"popular\", \"popular\", \"programa\", \"programa\", \"programa\", \"proyecto_nacional\", \"proyecto_nacional\", \"pueblo\", \"pueblo\", \"pueblounido\", \"pueblounido\", \"pueblounido\", \"pueblounido\", \"pueblounido\", \"pueda\", \"pueda\", \"puesto\", \"puesto\", \"puesto\", \"puesto\", \"quiere\", \"quiere\", \"quiere\", \"radio\", \"radio\", \"radio\", \"radio\", \"redes\", \"redes\", \"redes\", \"redes\", \"saber\", \"saber\", \"sociales\", \"sociales\", \"sociales\", \"suenos\", \"suenos\", \"sufren\", \"sufren\", \"sufren\", \"trabajo\", \"trabajo\", \"trabajo\", \"trabajo\", \"trabajo\", \"trabajo\", \"unidad\", \"unidad\", \"unidad\", \"valioso\", \"valioso\", \"valioso\", \"vamos\", \"vamos\", \"vamos\", \"vamos\", \"voto\", \"voto\", \"voto\", \"voto\", \"voy\", \"voy\"]}, \"mdsDat\": {\"y\": [0.1548812110765463, -0.07026937675636373, 0.20251129121199218, 0.027839715306868355, 0.04170056786575171, -0.1671814648006733, -0.1019581696351027, 0.013396535087137942, -0.06914868783609461, -0.031771621520061556], \"cluster\": [1, 1, 1, 1, 1, 1, 1, 1, 1, 1], \"Freq\": [17.562829135226607, 12.274603725787383, 11.908700652679324, 11.20292149757045, 10.87390706438391, 10.398831575820692, 9.044680523227502, 7.221798037453568, 5.693239398831971, 3.8184883890185843], \"topics\": [1, 2, 3, 4, 5, 6, 7, 8, 9, 10], \"x\": [-0.09477043603548779, -0.0886073301777228, -0.11481036691283264, -0.0359688076483117, 0.3226058194274747, 0.017113263276400968, -0.1793768366212811, 0.15982840731890946, -0.056879687007359715, 0.07086597438021072]}, \"R\": 30, \"lambda.step\": 0.01, \"tinfo\": {\"Category\": [\"Default\", \"Default\", \"Default\", \"Default\", \"Default\", \"Default\", \"Default\", \"Default\", \"Default\", \"Default\", \"Default\", \"Default\", \"Default\", \"Default\", \"Default\", \"Default\", \"Default\", \"Default\", \"Default\", \"Default\", \"Default\", \"Default\", \"Default\", \"Default\", \"Default\", \"Default\", \"Default\", \"Default\", \"Default\", \"Default\", \"Topic1\", \"Topic1\", \"Topic1\", \"Topic1\", \"Topic1\", \"Topic1\", \"Topic1\", \"Topic1\", \"Topic1\", \"Topic1\", \"Topic1\", \"Topic1\", \"Topic1\", \"Topic1\", \"Topic1\", \"Topic1\", \"Topic1\", \"Topic1\", \"Topic1\", \"Topic1\", \"Topic1\", \"Topic1\", \"Topic1\", \"Topic1\", \"Topic1\", \"Topic1\", \"Topic1\", \"Topic1\", \"Topic1\", \"Topic1\", \"Topic1\", \"Topic1\", \"Topic1\", \"Topic1\", \"Topic2\", \"Topic2\", \"Topic2\", \"Topic2\", \"Topic2\", \"Topic2\", \"Topic2\", \"Topic2\", \"Topic2\", \"Topic2\", \"Topic2\", \"Topic2\", \"Topic2\", \"Topic2\", \"Topic2\", \"Topic2\", \"Topic2\", \"Topic2\", \"Topic2\", \"Topic2\", \"Topic2\", \"Topic2\", \"Topic2\", \"Topic2\", \"Topic2\", \"Topic2\", \"Topic2\", \"Topic2\", \"Topic2\", \"Topic2\", \"Topic2\", \"Topic2\", \"Topic2\", \"Topic3\", \"Topic3\", \"Topic3\", \"Topic3\", \"Topic3\", \"Topic3\", \"Topic3\", \"Topic3\", \"Topic3\", \"Topic3\", \"Topic3\", \"Topic3\", \"Topic3\", \"Topic3\", \"Topic3\", \"Topic3\", \"Topic3\", \"Topic3\", \"Topic3\", \"Topic3\", \"Topic3\", \"Topic3\", \"Topic3\", \"Topic3\", \"Topic3\", \"Topic3\", \"Topic3\", \"Topic3\", \"Topic3\", \"Topic3\", \"Topic3\", \"Topic3\", \"Topic3\", \"Topic3\", \"Topic3\", \"Topic3\", \"Topic4\", \"Topic4\", \"Topic4\", \"Topic4\", \"Topic4\", \"Topic4\", \"Topic4\", \"Topic4\", \"Topic4\", \"Topic4\", \"Topic4\", \"Topic4\", \"Topic4\", \"Topic4\", \"Topic4\", \"Topic4\", \"Topic4\", \"Topic4\", \"Topic4\", \"Topic4\", \"Topic4\", \"Topic4\", \"Topic4\", \"Topic4\", \"Topic4\", \"Topic4\", \"Topic4\", \"Topic4\", \"Topic4\", \"Topic4\", \"Topic4\", \"Topic4\", \"Topic4\", \"Topic4\", \"Topic4\", \"Topic4\", \"Topic5\", \"Topic5\", \"Topic5\", \"Topic5\", \"Topic5\", \"Topic5\", \"Topic5\", \"Topic5\", \"Topic5\", \"Topic5\", \"Topic5\", \"Topic5\", \"Topic5\", \"Topic5\", \"Topic5\", \"Topic5\", \"Topic5\", \"Topic5\", \"Topic5\", \"Topic5\", \"Topic5\", \"Topic5\", \"Topic5\", \"Topic5\", \"Topic5\", \"Topic5\", \"Topic5\", \"Topic5\", \"Topic5\", \"Topic5\", \"Topic5\", \"Topic5\", \"Topic5\", \"Topic5\", \"Topic5\", \"Topic5\", \"Topic5\", \"Topic5\", \"Topic6\", \"Topic6\", \"Topic6\", \"Topic6\", \"Topic6\", \"Topic6\", \"Topic6\", \"Topic6\", \"Topic6\", \"Topic6\", \"Topic6\", \"Topic6\", \"Topic6\", \"Topic6\", \"Topic6\", \"Topic6\", \"Topic6\", \"Topic6\", \"Topic6\", \"Topic6\", \"Topic6\", \"Topic6\", \"Topic6\", \"Topic6\", \"Topic6\", \"Topic6\", \"Topic6\", \"Topic6\", \"Topic6\", \"Topic6\", \"Topic6\", \"Topic7\", \"Topic7\", \"Topic7\", \"Topic7\", \"Topic7\", \"Topic7\", \"Topic7\", \"Topic7\", \"Topic7\", \"Topic7\", \"Topic7\", \"Topic7\", \"Topic7\", \"Topic7\", \"Topic7\", \"Topic7\", \"Topic7\", \"Topic7\", \"Topic7\", \"Topic7\", \"Topic7\", \"Topic7\", \"Topic7\", \"Topic7\", \"Topic7\", \"Topic7\", \"Topic7\", \"Topic7\", \"Topic7\", \"Topic7\", \"Topic7\", \"Topic7\", \"Topic7\", \"Topic7\", \"Topic7\", \"Topic7\", \"Topic8\", \"Topic8\", \"Topic8\", \"Topic8\", \"Topic8\", \"Topic8\", \"Topic8\", \"Topic8\", \"Topic8\", \"Topic8\", \"Topic8\", \"Topic8\", \"Topic8\", \"Topic8\", \"Topic8\", \"Topic8\", \"Topic8\", \"Topic8\", \"Topic8\", \"Topic8\", \"Topic8\", \"Topic8\", \"Topic8\", \"Topic8\", \"Topic8\", \"Topic8\", \"Topic8\", \"Topic8\", \"Topic8\", \"Topic8\", \"Topic8\", \"Topic9\", \"Topic9\", \"Topic9\", \"Topic9\", \"Topic9\", \"Topic9\", \"Topic9\", \"Topic9\", \"Topic9\", \"Topic9\", \"Topic9\", \"Topic9\", \"Topic9\", \"Topic9\", \"Topic9\", \"Topic9\", \"Topic9\", \"Topic9\", \"Topic9\", \"Topic9\", \"Topic9\", \"Topic9\", \"Topic9\", \"Topic9\", \"Topic9\", \"Topic9\", \"Topic9\", \"Topic9\", \"Topic9\", \"Topic9\", \"Topic9\", \"Topic9\", \"Topic9\", \"Topic9\", \"Topic10\", \"Topic10\", \"Topic10\", \"Topic10\", \"Topic10\", \"Topic10\", \"Topic10\", \"Topic10\", \"Topic10\", \"Topic10\", \"Topic10\", \"Topic10\", \"Topic10\", \"Topic10\", \"Topic10\", \"Topic10\", \"Topic10\", \"Topic10\", \"Topic10\", \"Topic10\", \"Topic10\", \"Topic10\", \"Topic10\", \"Topic10\", \"Topic10\", \"Topic10\", \"Topic10\", \"Topic10\", \"Topic10\", \"Topic10\", \"Topic10\", \"Topic10\", \"Topic10\", \"Topic10\", \"Topic10\", \"Topic10\", \"Topic10\", \"Topic10\", \"Topic10\", \"Topic10\", \"Topic10\"], \"Term\": [\"asinosepuedeseguir\", \"canal\", \"mas\", \"acompaname\", \"hs\", \"ahora\", \"pablocarrodiputado_frente\", \"cordoba_ciudadana\", \"candidatos\", \"nacional\", \"jovenes\", \"pablocarrodiputado\", \"congreso\", \"invitado\", \"trabajo\", \"cordoba\", \"ajuste\", \"frente_cordoba\", \"estare\", \"programa\", \"quiere\", \"conversar\", \"pueblounido\", \"industria\", \"gobierno\", \"cordobeses\", \"macri\", \"ciudadana\", \"pueda\", \"fuerza\", \"juntos\", \"proyecto_nacional\", \"gran\", \"suenos\", \"hacer\", \"sociales\", \"integran\", \"popular\", \"aqui\", \"diputado\", \"campana\", \"cristina\", \"esperanza\", \"fuerza\", \"pobreza\", \"lista\", \"encontramos\", \"cordoba\", \"gracias\", \"ponerle_freno\", \"unidad\", \"eleccion\", \"candidatos\", \"derechos\", \"pablocarrodiputado\", \"lxs\", \"pablocarrodiputado_frentecordobaciudadana\", \"voto\", \"pueblounido\", \"cambiemos\", \"ciudadana\", \"frente_cordoba\", \"macri\", \"mas\", \"quiere\", \"pueda\", \"cordobeses\", \"trabajo\", \"voto\", \"industria\", \"llevar\", \"mas\", \"hoy\", \"nacional\", \"paso\", \"cordoba\", \"eleccion\", \"dejan\", \"congreso\", \"puesto\", \"pablocarrodiputado_frentecordobaciudadana\", \"derechos\", \"campana\", \"grandes\", \"popular\", \"pararlos\", \"destruyen\", \"macri\", \"gobierno\", \"asinosepuedeseguir\", \"lxs\", \"ajuste\", \"encontramos\", \"sufren\", \"canal\", \"pablocarrodiputado_frente\", \"cordoba_ciudadana\", \"pablo_carro\", \"candidatos\", \"frente_cordoba\", \"saber\", \"ciudadana\", \"diputado\", \"lista\", \"pueblo\", \"integran\", \"llevar\", \"unidad\", \"paso\", \"puesto\", \"derechos\", \"nacional\", \"popular\", \"freno\", \"proyecto_nacional\", \"encontramos\", \"sociales\", \"cara\", \"hambre\", \"radio\", \"cordobeses\", \"ahora\", \"manana\", \"pueblounido\", \"hacer\", \"construyendo\", \"juntos\", \"campana\", \"quiere\", \"pablocarrodiputado\", \"ajuste\", \"cordoba\", \"gran\", \"pueblo\", \"cambiemos\", \"ponerle\", \"politicas\", \"desempleo\", \"unidad\", \"pueblounido\", \"ahora\", \"pobreza\", \"grandes\", \"hambre\", \"ciudadana\", \"cara\", \"manana\", \"redes\", \"pablocarrodiputado\", \"suenos\", \"puesto\", \"contar\", \"esperanza\", \"quiere\", \"sufren\", \"cordoba_ciudadana\", \"pablocarrodiputado_frente\", \"llevar\", \"destruyen\", \"cristina\", \"pablo_carro\", \"frente_cordoba\", \"acompaname\", \"fuerza\", \"gran\", \"macri\", \"asinosepuedeseguir\", \"trabajo\", \"nacional\", \"estare\", \"invitado\", \"canal\", \"hs\", \"minutos\", \"programa\", \"voy\", \"conversar\", \"acompaname\", \"radio\", \"entrevista\", \"valioso\", \"hoy\", \"aqui\", \"redes\", \"vamos\", \"voto\", \"cordoba\", \"cordobeses\", \"pablocarrodiputado\", \"contar\", \"puesto\", \"integran\", \"dejan\", \"cambiemos\", \"sociales\", \"pobreza\", \"cara\", \"encontramos\", \"sufren\", \"manana\", \"eleccion\", \"ahora\", \"hambre\", \"saber\", \"fuerza\", \"esperanza\", \"ponerle\", \"pablocarrodiputado_frente\", \"cordoba_ciudadana\", \"gobierno\", \"pararlos\", \"asinosepuedeseguir\", \"dejan\", \"hambre\", \"ponerle_freno\", \"desempleo\", \"manana\", \"congreso\", \"construyendo\", \"cambiemos\", \"entrevista\", \"contar\", \"hoy\", \"ajuste\", \"puesto\", \"conversar\", \"macri\", \"ahora\", \"vamos\", \"aqui\", \"freno\", \"gracias\", \"pablocarrodiputado\", \"programa\", \"politicas\", \"lxs\", \"fuerza\", \"cordoba\", \"sufren\", \"construyendo\", \"ajuste\", \"mas\", \"encontramos\", \"pablocarrodiputado_frentecordobaciudadana\", \"destruyen\", \"cristina\", \"freno\", \"cara\", \"fuerza\", \"pararlos\", \"eleccion\", \"congreso\", \"macri\", \"ponerle_freno\", \"lxs\", \"derechos\", \"ponerle\", \"industria\", \"politicas\", \"nacional\", \"ahora\", \"contar\", \"puesto\", \"integran\", \"entrevista\", \"dejan\", \"cambiemos\", \"sociales\", \"pobreza\", \"cordobeses\", \"desempleo\", \"vamos\", \"diputado\", \"cordoba_ciudadana\", \"saber\", \"vamos\", \"gracias\", \"valioso\", \"redes\", \"ponerle\", \"paso\", \"manana\", \"voy\", \"pueblounido\", \"acompaname\", \"conversar\", \"pablocarrodiputado_frente\", \"cordoba_ciudadana\", \"hambre\", \"radio\", \"cordoba\", \"pablocarrodiputado\", \"hacer\", \"programa\", \"asinosepuedeseguir\", \"ajuste\", \"hs\", \"campana\", \"canal\", \"congreso\", \"cordobeses\", \"trabajo\", \"invitado\", \"aqui\", \"ponerle_freno\", \"jovenes\", \"pueda\", \"contar\", \"esperanza\", \"dejan\", \"lxs\", \"asinosepuedeseguir\", \"sociales\", \"pobreza\", \"pablocarrodiputado_frentecordobaciudadana\", \"sufren\", \"politicas\", \"trabajo\", \"grandes\", \"freno\", \"macri\", \"voto\", \"gobierno\", \"hacer\", \"cordobeses\", \"campana\", \"frente_cordoba\", \"entrevista\", \"pablocarrodiputado\", \"cordoba\", \"canal\", \"puesto\", \"integran\", \"cambiemos\", \"cara\", \"ajuste\", \"quiere\", \"industria\", \"conversar\", \"industria\", \"ahora\", \"contar\", \"entrevista\", \"minutos\", \"acompaname\", \"redes\", \"radio\", \"valioso\", \"destruyen\", \"asinosepuedeseguir\", \"lista\", \"gobierno\", \"pablocarrodiputado\", \"nacional\", \"cordobeses\", \"pueblounido\", \"trabajo\", \"macri\", \"puesto\", \"integran\", \"dejan\", \"cambiemos\", \"sociales\", \"pobreza\", \"cara\", \"voy\", \"encontramos\", \"sufren\", \"suenos\", \"mas\", \"conversar\", \"estare\", \"hs\", \"canal\", \"juntos\", \"ciudadana\", \"cristina\", \"fuerza\", \"diputado\", \"ponerle_freno\"], \"loglift\": [30.0, 29.0, 28.0, 27.0, 26.0, 25.0, 24.0, 23.0, 22.0, 21.0, 20.0, 19.0, 18.0, 17.0, 16.0, 15.0, 14.0, 13.0, 12.0, 11.0, 10.0, 9.0, 8.0, 7.0, 6.0, 5.0, 4.0, 3.0, 2.0, 1.0, 1.4467, 1.4063, 1.3443, 1.3253, 1.1756, 1.1492, 1.1196, 1.0992, 0.9576, 0.953, 0.949, 0.9479, 0.8938, 0.8594, 0.7537, 0.6883, 0.6698, 0.5511, 0.5399, 0.4871, 0.4781, 0.4348, 0.4133, 0.3489, 0.3052, 0.248, 0.1995, 0.1949, 0.1295, 0.1136, 0.0926, 0.0792, -0.04, -0.0498, 1.6565, 1.4054, 1.387, 1.3814, 1.3158, 1.3069, 1.2442, 1.0773, 1.0601, 0.9645, 0.9451, 0.8756, 0.8127, 0.7966, 0.7599, 0.6923, 0.6839, 0.6452, 0.536, 0.4716, 0.4509, 0.342, 0.3355, 0.231, 0.1449, 0.138, 0.0309, -0.4717, -1.5028, -1.5062, -2.0632, -2.1997, -2.1997, 1.7524, 1.7247, 1.5153, 1.4744, 1.4266, 1.363, 1.3374, 1.2676, 1.0117, 0.9269, 0.8974, 0.8911, 0.835, 0.8188, 0.8069, 0.6168, 0.5349, 0.4747, 0.3832, 0.2923, 0.2841, 0.1806, 0.162, 0.159, 0.0889, 0.0487, 0.004, -0.002, -0.0083, -0.0433, -0.0768, -0.0848, -0.5071, -0.4754, -0.9689, -0.0882, 1.4458, 1.4329, 1.3141, 1.299, 1.2959, 1.1807, 1.1544, 1.133, 1.1224, 1.0318, 0.8895, 0.8066, 0.7886, 0.7575, 0.6679, 0.6652, 0.5942, 0.569, 0.5397, 0.4873, 0.4798, 0.4571, 0.4072, 0.4072, 0.3566, 0.2963, 0.2936, 0.2898, 0.2848, 0.2687, 0.2158, 0.1969, -0.2293, -0.2698, -0.0706, -0.2929, 2.0657, 2.0572, 1.9999, 1.877, 1.8666, 1.8187, 1.6447, 1.504, 1.4722, 1.4564, 1.4436, 1.321, 1.1723, 0.9832, 0.8174, 0.7158, 0.0085, 0.0054, -0.2167, -0.6087, -1.7662, -1.8016, -1.8114, -1.818, -1.8235, -1.8245, -1.8303, -1.8317, -1.8485, -1.849, -2.0673, -2.1783, -2.5474, -1.9357, -2.0195, -2.7167, -1.9788, -1.9683, 1.7633, 1.7633, 1.6888, 1.3881, 1.2354, 1.1837, 1.1785, 1.1417, 1.1305, 1.0465, 0.9238, 0.9173, 0.7072, 0.691, 0.5889, 0.5874, 0.5765, 0.5535, 0.4471, 0.4369, 0.4332, 0.3792, 0.3389, 0.3283, 0.2505, 0.0593, -0.0031, -0.0053, -0.0177, -0.1337, -0.8476, 1.7502, 1.7347, 1.5397, 1.4343, 1.3848, 1.2476, 1.2473, 1.2298, 1.2197, 1.2085, 1.2034, 1.1966, 1.1721, 1.1129, 0.864, 0.8215, 0.739, 0.666, 0.6418, 0.6098, 0.5808, 0.5592, 0.0625, -1.5539, -1.5893, -1.5991, -1.6003, -1.6056, -1.6105, -1.612, -1.6176, -2.4009, -1.7588, -1.763, -2.1793, -2.3531, 1.5769, 1.5692, 1.5631, 1.5509, 1.3956, 1.3797, 1.3534, 1.2802, 1.1725, 1.0247, 0.8838, 0.8699, 0.796, 0.796, 0.7656, 0.7468, 0.7176, 0.6322, 0.466, 0.4524, 0.3436, 0.3312, 0.3143, 0.2459, 0.2165, 0.202, 0.087, 0.006, -0.5604, -1.0565, -1.1824, 2.4836, 1.8053, 1.7717, 1.5797, 1.5391, 1.4783, 1.1142, 1.0876, 1.0817, 1.068, 1.063, 1.0246, 1.0135, 0.9326, 0.8231, 0.8222, 0.765, 0.7118, 0.6764, 0.517, 0.4564, 0.2443, 0.1562, -0.2326, -0.4565, -1.0843, -1.2875, -1.2973, -1.3095, -1.3184, -2.31, -1.9705, -1.4861, -2.0196, 1.9077, 1.736, 1.4954, 1.4489, 1.4252, 1.3664, 1.309, 1.3069, 1.3003, 1.252, 1.1488, 1.089, 1.0614, 1.0531, 0.99, 0.647, 0.6179, 0.566, 0.2675, -0.9379, -0.9477, -0.9543, -0.9599, -0.9607, -0.9666, -0.9689, -0.9734, -0.9848, -0.9853, -1.0, -2.015, -1.6701, -1.1568, -1.6893, -1.7687, -1.1478, -1.6717, -1.2984, -1.8531, -1.5284, -1.3718], \"Freq\": [18.0, 12.0, 15.0, 11.0, 11.0, 11.0, 11.0, 11.0, 10.0, 16.0, 5.0, 20.0, 17.0, 7.0, 12.0, 25.0, 14.0, 12.0, 6.0, 9.0, 10.0, 10.0, 12.0, 6.0, 7.0, 11.0, 17.0, 10.0, 6.0, 13.0, 4.847864751830339, 5.9066300579595925, 5.596474279642211, 3.70367684912422, 4.625321489512506, 2.986245409785022, 2.861628000451708, 5.814488365740947, 2.9862995994410495, 4.32954874972933, 4.595311014348591, 3.4225741620199437, 2.6997109089750624, 5.455130757519815, 2.0225623573745684, 2.667585343525876, 1.893886000893661, 7.690976831817173, 2.148688947143062, 2.323265835128918, 2.967317317603835, 2.0838125511704506, 2.8645212924145147, 1.8124666434229022, 4.8075021375906974, 2.2385919491804502, 2.0229771480084526, 2.0229771480084526, 2.4436436119642546, 1.0592032865800296, 2.113481993011616, 2.380542223992657, 2.9284358204921688, 2.584062744954153, 6.711224825188102, 3.212222126668084, 5.833769301163696, 6.290445238927862, 4.337320066296333, 2.9138207809233885, 2.6761678742555515, 5.574922790251789, 2.002379525551728, 5.180340648568423, 1.9402283623565377, 7.435621766187011, 2.125028868864103, 1.4573639906051814, 4.625797880734656, 1.2917013532913726, 2.2948945336470223, 1.7035249385557267, 2.125028868864103, 1.2374945763657668, 2.125028868864103, 1.1131103598811969, 1.1131103598811969, 2.6836286448441715, 1.1131103598811969, 2.566409012162435, 1.259203716896858, 1.121998350474775, 0.15072585658609947, 0.15030229180091995, 0.18848528951422192, 0.15382341683032072, 0.15382341683032072, 4.483291084533364, 7.208734283036398, 6.786319799144985, 3.407519663958737, 5.4402798958908845, 4.423432756429562, 3.461920461836731, 3.2034196165983237, 1.7418939389204817, 1.8905232365305538, 3.0601738347647602, 1.7834646177792488, 1.4454459800216297, 1.9662253819426594, 4.292834354810416, 2.433719078656856, 1.4270624241389698, 1.577672405275439, 0.964156351422108, 0.8594543664993476, 0.8594543664993476, 0.8593239796034342, 0.8594543664993476, 1.657617900135946, 1.4454433036546575, 0.8594543664993476, 1.4615845742899054, 0.9659545335568697, 0.8594543664993476, 0.7408334581084531, 1.1170774290439287, 1.1413119021515195, 1.4467813857862586, 1.0844951092642354, 1.1405023176225821, 0.9059236307927888, 3.601413398931853, 2.5274871400569365, 2.5942001995879034, 4.406456373747592, 2.556177437773445, 3.8215353481110497, 4.344242379713309, 3.863055631146953, 1.8653571906895212, 1.9778722083445717, 1.642456908790123, 2.7531124392725665, 1.3389244855524511, 1.642456818941068, 1.3380672691064897, 4.395600191681534, 1.1372593640869002, 1.0421973522134995, 0.9769108655483301, 1.1468240264115817, 1.8883850764542964, 0.9771029869518558, 1.9033139808296882, 1.9033139808296882, 1.0054991144953236, 0.9769108655483301, 1.1348160000763305, 0.9769108655483301, 1.8650116524104479, 1.6968465075361405, 1.8283366941153432, 1.1332964118909437, 1.545768610973141, 1.5578475319722123, 1.3440436332614896, 1.3445663967106187, 5.624881031269066, 6.357125838575663, 9.709843710132086, 7.932859420130367, 3.833986650152432, 6.1583000039211155, 3.073227663859646, 5.358869220209247, 5.4874811452818895, 2.863591723952674, 2.4528067504281665, 2.517311704618484, 1.9846278558938675, 1.8970141874887194, 1.5081736531170191, 1.3946632525740952, 1.0395669721348828, 2.7590171904555407, 1.039566972134883, 1.1934847741083023, 0.09450608837589845, 0.09450608837589845, 0.09450608837589845, 0.09450608837589845, 0.09452047568090167, 0.09450608837589845, 0.09450608837589845, 0.09459076330800506, 0.09450608837589845, 0.09450608837589845, 0.09457275669630581, 0.09457187748806223, 0.09453982264793251, 0.09452976700381566, 0.09452571928030506, 0.09452371986674504, 0.09452274933968276, 0.09452243899022783, 6.85676106230987, 6.85676106230987, 4.416139125702495, 2.684319860721125, 6.514658112947953, 1.8184102282304393, 2.0353822558794215, 2.646970890087737, 2.0108617472314063, 2.0353822477925574, 4.6166697159048775, 1.8938911101508025, 1.1354691479377874, 1.1051048063364024, 0.9525005957397538, 1.0574506783395246, 2.71149448775047, 0.9525005957397538, 1.7810612575970508, 2.7933746900930405, 1.7810612575970508, 0.9525005957397538, 0.9525005957397538, 1.01354861254941, 0.9525005957397538, 2.226051406821397, 0.9525005957397538, 1.1099039559072226, 1.016159980366006, 1.1964954800791334, 1.1243978735060265, 2.8746190283162374, 3.730211054897907, 6.1793078220028494, 5.870366139472401, 1.9937737465951262, 2.971508862463528, 2.0413606092215, 2.3365131668852235, 2.1495658889822207, 1.6450291562969104, 3.96308207079233, 1.9279880014001882, 2.243080236347682, 4.851382478691611, 3.7240939184507895, 1.6714940652689148, 1.8835635086600644, 1.2816529840054096, 1.0692841286398334, 1.0692841286398334, 1.7347034234771155, 2.545166334356842, 1.0692841286398334, 0.09720764805816666, 0.09720764805816666, 0.09720764805816666, 0.09720764805816666, 0.09720764805816666, 0.09727793631068395, 0.09721595573004768, 0.09723584045327303, 0.09732967843766088, 0.09727797662487614, 0.09725796917717788, 0.09724941445482266, 0.09723540954856388, 2.289361642530779, 2.1745031709862235, 2.458137936722726, 2.1039430074099683, 1.785730293794158, 1.785730293794158, 1.7171908323260099, 1.785691706459872, 1.272821737979602, 2.4597602836249206, 2.0234938004698164, 1.8877591383393932, 1.8100537752352583, 1.8100537752352583, 0.935382534844559, 0.9353825348445588, 3.7352532147828867, 2.741423393281791, 0.9353825348445588, 1.0431653770583849, 1.8545057805148566, 1.4734042663291504, 1.104104138472898, 0.9353825348445588, 1.0838886246528625, 1.5578495117086268, 0.935382534844559, 0.935382534844559, 0.3081198927762858, 0.1638678837528772, 0.17992246954359822, 4.093188294401403, 2.2223640072109467, 1.701865961707784, 1.7375421707452863, 1.4203851255137914, 2.48330559071752, 3.159514159838087, 0.9101487777619756, 0.9101487777619756, 1.562975653621532, 0.9101487777619758, 1.7018567802090308, 2.0195992629301847, 0.9101487777619758, 0.9101487777619758, 2.2481446590055922, 1.159717309794042, 0.9101487777619758, 0.9101487777619756, 1.1336389004456162, 0.9101487777619756, 0.9101487777619758, 0.35441986448274176, 0.9101487777619758, 0.9101487777619758, 0.2326769755774066, 0.08274079797836142, 0.08274079797836142, 0.08274079797836142, 0.08274079797836142, 0.0827912391882403, 0.08278078176607358, 0.08276027077271315, 0.08274851322873938, 1.6530669464064656, 2.4062606578128656, 0.8658922100224344, 0.8658922100224342, 0.8658922100224344, 1.733519906721496, 0.8658922100224344, 0.8658922100224342, 0.8658922100224342, 0.8658922100224342, 2.193658934654327, 0.8658922100224342, 0.8658922100224342, 2.208147705320031, 1.6530669464064656, 0.8658922100224342, 0.8658922100224344, 0.8658922100224342, 0.8658922100224342, 0.07871747363840312, 0.07871747363840312, 0.07871747363840312, 0.07871747363840312, 0.07871747363840312, 0.07871747363840312, 0.07871747363840312, 0.07871747363840312, 0.07871747363840312, 0.07871747363840312, 0.07871747363840312, 0.07873356160228023, 0.07871915211449383, 0.07871897260390011, 0.07871858822875001, 0.07871838023845516, 0.07871747363840312, 0.07871747363840312, 0.07871747363840312, 0.07871747363840312, 0.07871747363840312, 0.07871747363840312], \"Total\": [18.0, 12.0, 15.0, 11.0, 11.0, 11.0, 11.0, 11.0, 10.0, 16.0, 5.0, 20.0, 17.0, 7.0, 12.0, 25.0, 14.0, 12.0, 6.0, 9.0, 10.0, 10.0, 12.0, 6.0, 7.0, 11.0, 17.0, 10.0, 6.0, 13.0, 6.496253686008996, 8.240979037112124, 8.308351554814891, 5.6034674677314245, 8.12794684143149, 5.387956307684291, 5.318321616151549, 11.028730680798395, 6.526482330818138, 9.50535441709932, 10.128780876870904, 7.552136916253963, 6.288434268478842, 13.15193814492388, 5.419490188133336, 7.631480218525997, 5.5189449371879205, 25.236411524958125, 7.130269724093462, 8.127353695234449, 10.475017814418607, 7.680898864077094, 10.788133854757463, 7.280320865006574, 20.173719602118034, 9.946169274022159, 9.43519725240296, 9.478825469510788, 12.224115409802307, 5.383421819420625, 10.9695430473348, 12.521950125070434, 17.354390809160954, 15.465207337020177, 10.431979139785776, 6.418539381994635, 11.873253982786638, 12.87512819298827, 9.478825469510788, 6.42520617668235, 6.2829555028394735, 15.465207337020177, 5.651435510360645, 16.086412161293662, 6.143434543050149, 25.236411524958125, 7.680898864077094, 5.353206003044628, 17.62551697531184, 5.266384310355305, 9.43519725240296, 7.280320865006574, 10.128780876870904, 6.291351036923254, 11.028730680798395, 6.442020178695427, 6.48393358188391, 17.354390809160954, 7.845313524662902, 18.212773829053155, 9.946169274022159, 14.650199448648669, 5.5189449371879205, 5.522094193889862, 12.086539702817193, 11.30716445697824, 11.30716445697824, 6.526294016870005, 10.788133854757463, 12.521950125070434, 6.549864965779512, 10.9695430473348, 9.50535441709932, 7.631480218525997, 7.572504863443496, 5.318321616151549, 6.2829555028394735, 10.475017814418607, 6.143434543050149, 5.266384310355305, 7.280320865006574, 16.086412161293662, 11.028730680798395, 7.018852675521817, 8.240979037112124, 5.5189449371879205, 5.387956307684291, 5.431929329891655, 6.023426220910117, 6.1377559281091845, 11.873253982786638, 11.105480512681096, 6.873747912105633, 12.224115409802307, 8.12794684143149, 7.277311911241955, 6.496253686008996, 10.128780876870904, 10.431979139785776, 20.173719602118034, 14.650199448648669, 25.236411524958125, 8.308351554814891, 7.572504863443496, 5.383421819420625, 6.222369093188562, 10.730075283451473, 6.243738542052506, 10.475017814418607, 12.224115409802307, 11.105480512681096, 5.419490188133336, 6.291351036923254, 6.023426220910117, 10.9695430473348, 5.431929329891655, 6.873747912105633, 6.124476983398007, 20.173719602118034, 5.6034674677314245, 5.266384310355305, 5.083278007015709, 6.288434268478842, 10.431979139785776, 5.522094193889862, 11.30716445697824, 11.30716445697824, 6.2829555028394735, 6.48393358188391, 7.552136916253963, 6.526294016870005, 12.521950125070434, 11.57734134660968, 13.15193814492388, 8.308351554814891, 17.354390809160954, 18.212773829053155, 12.87512819298827, 16.086412161293662, 6.55525286715228, 7.472130100422961, 12.086539702817193, 11.164871600318419, 5.452597181124479, 9.188227309992813, 5.456565275884832, 10.952572142545199, 11.57734134660968, 6.1377559281091845, 5.324949502979079, 6.178008688566555, 5.651435510360645, 6.526482330818138, 6.124476983398007, 6.269048676630864, 9.478825469510788, 25.236411524958125, 11.873253982786638, 20.173719602118034, 5.083278007015709, 5.266384310355305, 5.318321616151549, 5.353206003044628, 5.383421819420625, 5.387956307684291, 5.419490188133336, 5.431929329891655, 5.5189449371879205, 5.522094193889862, 6.873747912105633, 7.680898864077094, 11.105480512681096, 6.023426220910117, 6.549864965779512, 13.15193814492388, 6.288434268478842, 6.222369093188562, 11.30716445697824, 11.30716445697824, 7.845313524662902, 6.442020178695427, 18.212773829053155, 5.353206003044628, 6.023426220910117, 8.127353695234449, 6.243738542052506, 6.873747912105633, 17.62551697531184, 7.277311911241955, 5.383421819420625, 5.324949502979079, 5.083278007015709, 5.651435510360645, 14.650199448648669, 5.266384310355305, 10.952572142545199, 17.354390809160954, 11.105480512681096, 6.269048676630864, 6.526482330818138, 7.018852675521817, 7.130269724093462, 20.173719602118034, 9.188227309992813, 10.730075283451473, 9.946169274022159, 13.15193814492388, 25.236411524958125, 5.522094193889862, 7.277311911241955, 14.650199448648669, 15.465207337020177, 5.5189449371879205, 9.43519725240296, 6.48393358188391, 7.552136916253963, 7.018852675521817, 5.431929329891655, 13.15193814492388, 6.442020178695427, 7.680898864077094, 17.62551697531184, 17.354390809160954, 8.127353695234449, 9.946169274022159, 7.280320865006574, 6.222369093188562, 6.42520617668235, 10.730075283451473, 16.086412161293662, 11.105480512681096, 5.083278007015709, 5.266384310355305, 5.318321616151549, 5.324949502979079, 5.353206003044628, 5.383421819420625, 5.387956307684291, 5.419490188133336, 11.873253982786638, 6.243738542052506, 6.269048676630864, 9.50535441709932, 11.30716445697824, 6.549864965779512, 6.269048676630864, 7.130269724093462, 6.178008688566555, 6.124476983398007, 6.222369093188562, 6.143434543050149, 6.873747912105633, 5.456565275884832, 12.224115409802307, 11.57734134660968, 10.952572142545199, 11.30716445697824, 11.30716445697824, 6.023426220910117, 6.1377559281091845, 25.236411524958125, 20.173719602118034, 8.12794684143149, 9.188227309992813, 18.212773829053155, 14.650199448648669, 11.164871600318419, 10.128780876870904, 12.086539702817193, 17.62551697531184, 11.873253982786638, 12.87512819298827, 7.472130100422961, 6.526482330818138, 8.127353695234449, 5.99932679265329, 6.418539381994635, 5.083278007015709, 6.288434268478842, 5.353206003044628, 9.946169274022159, 18.212773829053155, 5.387956307684291, 5.419490188133336, 9.43519725240296, 5.522094193889862, 10.730075283451473, 12.87512819298827, 6.291351036923254, 7.018852675521817, 17.354390809160954, 9.478825469510788, 7.845313524662902, 8.12794684143149, 11.873253982786638, 10.128780876870904, 12.521950125070434, 5.324949502979079, 20.173719602118034, 25.236411524958125, 12.086539702817193, 5.266384310355305, 5.318321616151549, 5.383421819420625, 5.431929329891655, 14.650199448648669, 10.431979139785776, 6.42520617668235, 10.952572142545199, 6.42520617668235, 11.105480512681096, 5.083278007015709, 5.324949502979079, 5.452597181124479, 11.57734134660968, 6.124476983398007, 6.1377559281091845, 6.178008688566555, 6.48393358188391, 18.212773829053155, 7.631480218525997, 7.845313524662902, 20.173719602118034, 16.086412161293662, 11.873253982786638, 12.224115409802307, 12.87512819298827, 17.354390809160954, 5.266384310355305, 5.318321616151549, 5.353206003044628, 5.383421819420625, 5.387956307684291, 5.419490188133336, 5.431929329891655, 5.456565275884832, 5.5189449371879205, 5.522094193889862, 5.6034674677314245, 15.465207337020177, 10.952572142545199, 6.55525286715228, 11.164871600318419, 12.086539702817193, 6.496253686008996, 10.9695430473348, 7.552136916253963, 13.15193814492388, 9.50535441709932, 8.127353695234449], \"logprob\": [30.0, 29.0, 28.0, 27.0, 26.0, 25.0, 24.0, 23.0, 22.0, 21.0, 20.0, 19.0, 18.0, 17.0, 16.0, 15.0, 14.0, 13.0, 12.0, 11.0, 10.0, 9.0, 8.0, 7.0, 6.0, 5.0, 4.0, 3.0, 2.0, 1.0, -3.2847, -3.0871, -3.1411, -3.5539, -3.3317, -3.7692, -3.8118, -3.1028, -3.7692, -3.3977, -3.3382, -3.6328, -3.8701, -3.1666, -4.1588, -3.882, -4.2246, -2.8232, -4.0983, -4.0202, -3.7755, -4.129, -3.8108, -4.2685, -3.293, -4.0574, -4.1586, -4.1586, -3.9697, -4.8057, -4.1149, -3.9959, -3.7887, -3.9138, -2.6012, -3.338, -2.7413, -2.6659, -3.0377, -3.4355, -3.5206, -2.7867, -3.8106, -2.8601, -3.8421, -2.4987, -3.7512, -4.1283, -2.9733, -4.249, -3.6743, -3.9723, -3.7512, -4.2919, -3.7512, -4.3978, -4.3978, -3.5178, -4.3978, -3.5624, -4.2745, -4.3898, -6.3972, -6.4001, -6.1737, -6.3769, -6.3769, -2.9743, -2.4994, -2.5598, -3.2487, -2.7809, -2.9878, -3.2329, -3.3105, -3.9197, -3.8378, -3.3562, -3.8961, -4.1063, -3.7986, -3.0177, -3.5853, -4.1191, -4.0187, -4.5112, -4.6261, -4.6261, -4.6263, -4.6261, -3.9693, -4.1063, -4.6261, -4.0952, -4.5093, -4.6261, -4.7747, -4.364, -4.3425, -4.1053, -4.3936, -4.3432, -4.5735, -3.1323, -3.4864, -3.4603, -2.9305, -3.4751, -3.0729, -2.9447, -3.0621, -3.7901, -3.7316, -3.9174, -3.4009, -4.1217, -3.9174, -4.1224, -2.933, -4.285, -4.3723, -4.437, -4.2766, -3.7779, -4.4368, -3.77, -3.77, -4.4081, -4.437, -4.2871, -4.437, -3.7903, -3.8848, -3.8102, -4.2885, -3.9781, -3.9703, -4.1179, -4.1175, -2.6566, -2.5342, -2.1106, -2.3128, -3.0399, -2.566, -3.2611, -2.705, -2.6813, -3.3317, -3.4866, -3.4606, -3.6984, -3.7435, -3.9729, -4.0511, -4.345, -3.3689, -4.345, -4.2069, -6.7429, -6.7429, -6.7429, -6.7429, -6.7427, -6.7429, -6.7429, -6.742, -6.7429, -6.7429, -6.7422, -6.7422, -6.7425, -6.7426, -6.7427, -6.7427, -6.7427, -6.7427, -2.4139, -2.4139, -2.8538, -3.3517, -2.4651, -3.7411, -3.6284, -3.3657, -3.6405, -3.6284, -2.8094, -3.7005, -4.2121, -4.2392, -4.3878, -4.2833, -3.3416, -4.3878, -3.7619, -3.3119, -3.7619, -4.3878, -4.3878, -4.3257, -4.3878, -3.5389, -4.3878, -4.2348, -4.3231, -4.1597, -4.2219, -3.1437, -2.8831, -2.3784, -2.4297, -3.5096, -3.1105, -3.486, -3.3509, -3.4343, -3.7018, -2.8226, -3.5431, -3.3917, -2.6203, -2.8848, -3.6859, -3.5664, -3.9514, -4.1326, -4.1326, -3.6488, -3.2654, -4.1326, -6.5305, -6.5305, -6.5305, -6.5305, -6.5305, -6.5298, -6.5304, -6.5302, -6.5292, -6.5298, -6.53, -6.5301, -6.5302, -3.1462, -3.1977, -3.0751, -3.2307, -3.3947, -3.3947, -3.4338, -3.3947, -3.7333, -3.0745, -3.2697, -3.3391, -3.3812, -3.3812, -4.0413, -4.0413, -2.6567, -2.966, -4.0413, -3.9323, -3.3569, -3.5869, -3.8755, -4.0413, -3.894, -3.5312, -4.0413, -4.0413, -5.1518, -5.7832, -5.6898, -2.3274, -2.9381, -3.205, -3.1842, -3.3858, -2.8271, -2.5863, -3.8308, -3.8308, -3.2901, -3.8308, -3.205, -3.0338, -3.8308, -3.8308, -2.9266, -3.5885, -3.8308, -3.8308, -3.6113, -3.8308, -3.8308, -4.774, -3.8308, -3.8308, -5.1948, -6.2287, -6.2287, -6.2287, -6.2287, -6.2281, -6.2283, -6.2285, -6.2286, -2.8346, -2.4592, -3.4813, -3.4813, -3.4813, -2.7871, -3.4813, -3.4813, -3.4813, -3.4813, -2.5517, -3.4813, -3.4813, -2.5451, -2.8346, -3.4813, -3.4813, -3.4813, -3.4813, -5.8792, -5.8792, -5.8792, -5.8792, -5.8792, -5.8792, -5.8792, -5.8792, -5.8792, -5.8792, -5.8792, -5.879, -5.8791, -5.8791, -5.8791, -5.8792, -5.8792, -5.8792, -5.8792, -5.8792, -5.8792, -5.8792]}};\n",
       "\n",
       "function LDAvis_load_lib(url, callback){\n",
       "  var s = document.createElement('script');\n",
       "  s.src = url;\n",
       "  s.async = true;\n",
       "  s.onreadystatechange = s.onload = callback;\n",
       "  s.onerror = function(){console.warn(\"failed to load library \" + url);};\n",
       "  document.getElementsByTagName(\"head\")[0].appendChild(s);\n",
       "}\n",
       "\n",
       "if(typeof(LDAvis) !== \"undefined\"){\n",
       "   // already loaded: just create the visualization\n",
       "   !function(LDAvis){\n",
       "       new LDAvis(\"#\" + \"ldavis_el126181396302246951205438987837\", ldavis_el126181396302246951205438987837_data);\n",
       "   }(LDAvis);\n",
       "}else if(typeof define === \"function\" && define.amd){\n",
       "   // require.js is available: use it to load d3/LDAvis\n",
       "   require.config({paths: {d3: \"https://cdnjs.cloudflare.com/ajax/libs/d3/3.5.5/d3.min\"}});\n",
       "   require([\"d3\"], function(d3){\n",
       "      window.d3 = d3;\n",
       "      LDAvis_load_lib(\"https://cdn.rawgit.com/bmabey/pyLDAvis/files/ldavis.v1.0.0.js\", function(){\n",
       "        new LDAvis(\"#\" + \"ldavis_el126181396302246951205438987837\", ldavis_el126181396302246951205438987837_data);\n",
       "      });\n",
       "    });\n",
       "}else{\n",
       "    // require.js not available: dynamically load d3 & LDAvis\n",
       "    LDAvis_load_lib(\"https://cdnjs.cloudflare.com/ajax/libs/d3/3.5.5/d3.min.js\", function(){\n",
       "         LDAvis_load_lib(\"https://cdn.rawgit.com/bmabey/pyLDAvis/files/ldavis.v1.0.0.js\", function(){\n",
       "                 new LDAvis(\"#\" + \"ldavis_el126181396302246951205438987837\", ldavis_el126181396302246951205438987837_data);\n",
       "            })\n",
       "         });\n",
       "}\n",
       "</script>"
      ],
      "text/plain": [
       "<IPython.core.display.HTML object>"
      ]
     },
     "execution_count": 27,
     "metadata": {},
     "output_type": "execute_result"
    }
   ],
   "source": [
    "pyLDAvis.display(viz)"
   ]
  },
  {
   "cell_type": "code",
   "execution_count": 28,
   "metadata": {
    "collapsed": true
   },
   "outputs": [],
   "source": [
    "pyLDAvis.save_html(viz, '/home/pablo/GDrive/BigSocialData/facebook/report-26-07/lda_carro.html')"
   ]
  }
 ],
 "metadata": {
  "kernelspec": {
   "display_name": "Python 2",
   "language": "python",
   "name": "python2"
  },
  "language_info": {
   "codemirror_mode": {
    "name": "ipython",
    "version": 2
   },
   "file_extension": ".py",
   "mimetype": "text/x-python",
   "name": "python",
   "nbconvert_exporter": "python",
   "pygments_lexer": "ipython2",
   "version": "2.7.11+"
  }
 },
 "nbformat": 4,
 "nbformat_minor": 2
}
