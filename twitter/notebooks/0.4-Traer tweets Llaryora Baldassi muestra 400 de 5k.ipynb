{
 "cells": [
  {
   "cell_type": "code",
   "execution_count": 25,
   "metadata": {
    "collapsed": false
   },
   "outputs": [
    {
     "name": "stdout",
     "output_type": "stream",
     "text": [
      "Switching to API Credentials #8\n"
     ]
    }
   ],
   "source": [
    "import networkx as nx\n",
    "from twitter_api import API_HANDLER as TW\n",
    "from localsettings import DATA_PATH \n",
    "import json\n",
    "\n",
    "from os.path import join\n",
    "\n",
    "DATA_PATH = join(DATA_PATH, './reporte_07_26')"
   ]
  },
  {
   "cell_type": "code",
   "execution_count": 3,
   "metadata": {
    "collapsed": true
   },
   "outputs": [],
   "source": [
    "from datetime import date"
   ]
  },
  {
   "cell_type": "code",
   "execution_count": 4,
   "metadata": {
    "collapsed": false
   },
   "outputs": [],
   "source": [
    "DIA = date(year=2017, month=7, day=19)"
   ]
  },
  {
   "cell_type": "code",
   "execution_count": 5,
   "metadata": {
    "collapsed": true
   },
   "outputs": [],
   "source": [
    "cuentas = [\n",
    "    'HectorBaldassi',\n",
    "    'MartinLlaryora',\n",
    "]"
   ]
  },
  {
   "cell_type": "code",
   "execution_count": 6,
   "metadata": {
    "collapsed": true
   },
   "outputs": [],
   "source": [
    "gpath = join(DATA_PATH, 'red_cands5k.graphml')\n",
    "g = nx.read_graphml(gpath)"
   ]
  },
  {
   "cell_type": "code",
   "execution_count": 7,
   "metadata": {
    "collapsed": true
   },
   "outputs": [],
   "source": [
    "uids = g.nodes()"
   ]
  },
  {
   "cell_type": "code",
   "execution_count": 8,
   "metadata": {
    "collapsed": true
   },
   "outputs": [],
   "source": [
    "# los candidatos al principio"
   ]
  },
  {
   "cell_type": "code",
   "execution_count": 9,
   "metadata": {
    "collapsed": true
   },
   "outputs": [],
   "source": [
    "cand_ids = ['845696348','325778405']"
   ]
  },
  {
   "cell_type": "code",
   "execution_count": 10,
   "metadata": {
    "collapsed": false
   },
   "outputs": [
    {
     "data": {
      "text/plain": [
       "[None, None]"
      ]
     },
     "execution_count": 10,
     "metadata": {},
     "output_type": "execute_result"
    }
   ],
   "source": [
    "[uids.remove(uid) for uid in cand_ids]"
   ]
  },
  {
   "cell_type": "code",
   "execution_count": 11,
   "metadata": {
    "collapsed": true
   },
   "outputs": [],
   "source": [
    "uids = cand_ids + uids"
   ]
  },
  {
   "cell_type": "code",
   "execution_count": 12,
   "metadata": {
    "collapsed": false
   },
   "outputs": [
    {
     "data": {
      "text/plain": [
       "5002"
      ]
     },
     "execution_count": 12,
     "metadata": {},
     "output_type": "execute_result"
    }
   ],
   "source": [
    "len(uids)"
   ]
  },
  {
   "cell_type": "code",
   "execution_count": 27,
   "metadata": {
    "collapsed": false
   },
   "outputs": [
    {
     "name": "stdout",
     "output_type": "stream",
     "text": [
      "Switching to API Credentials #6\n"
     ]
    }
   ],
   "source": [
    "# Por ahora traemos tweets sólo de 100 en cada audiencia\n",
    "# Update: Traemos 200 de cada audiencia"
   ]
  },
  {
   "cell_type": "code",
   "execution_count": 28,
   "metadata": {
    "collapsed": true
   },
   "outputs": [],
   "source": [
    "from random import sample\n",
    "uids = []\n",
    "uids += sample(g.predecessors(cand_ids[0]), 200)\n",
    "uids += sample(g.predecessors(cand_ids[1]), 200)\n",
    "uids = cand_ids + list(set(uids))\n",
    "\n",
    "fpath = join(DATA_PATH, \"tl_uids.json\")\n",
    "with open(fpath, \"w\") as f:\n",
    "    json.dump(uids, f)"
   ]
  },
  {
   "cell_type": "code",
   "execution_count": 29,
   "metadata": {
    "collapsed": false
   },
   "outputs": [
    {
     "data": {
      "text/plain": [
       "401"
      ]
     },
     "execution_count": 29,
     "metadata": {},
     "output_type": "execute_result"
    }
   ],
   "source": [
    "with open(fpath) as f:\n",
    "    uids = json.load(f)\n",
    "len(uids)"
   ]
  },
  {
   "cell_type": "code",
   "execution_count": 30,
   "metadata": {
    "collapsed": true
   },
   "outputs": [],
   "source": [
    "tweets = {}\n",
    "# with open('tweets_%s.json' % datetime.strftime(DIA, '%m-%d')) as f:\n",
    "#     tweets = json.load(f)"
   ]
  },
  {
   "cell_type": "code",
   "execution_count": 31,
   "metadata": {
    "collapsed": true
   },
   "outputs": [],
   "source": [
    "import time"
   ]
  },
  {
   "cell_type": "code",
   "execution_count": 32,
   "metadata": {
    "collapsed": false
   },
   "outputs": [
    {
     "name": "stdout",
     "output_type": "stream",
     "text": [
      "0.0 %\n",
      "1.2 %\n",
      "2.5 %\n",
      "3.7 %\n",
      "5.0 %\n",
      "6.2 %\n",
      "7.5 %\n",
      "8.7 %\n",
      "10.0 %\n",
      "11.2 %\n",
      "12.5 %\n",
      "13.7 %\n",
      "15.0 %\n",
      "16.2 %\n",
      "17.5 %\n",
      "18.7 %\n",
      "20.0 %\n",
      "21.2 %\n",
      "22.4 %\n",
      "23.7 %\n",
      "24.9 %\n",
      "26.2 %\n",
      "27.4 %\n",
      "28.7 %\n",
      "29.9 %\n",
      "31.2 %\n",
      "32.4 %\n",
      "33.7 %\n",
      "34.9 %\n",
      "36.2 %\n",
      "37.4 %\n",
      "38.7 %\n",
      "39.9 %\n",
      "41.1 %\n",
      "42.4 %\n",
      "43.6 %\n",
      "44.9 %\n",
      "46.1 %\n",
      "47.4 %\n",
      "48.6 %\n",
      "49.9 %\n",
      "51.1 %\n",
      "52.4 %\n",
      "53.6 %\n",
      "54.9 %\n",
      "56.1 %\n",
      "57.4 %\n",
      "58.6 %\n",
      "59.9 %\n",
      "61.1 %\n",
      "62.3 %\n",
      "63.6 %\n",
      "64.8 %\n",
      "66.1 %\n",
      "67.3 %\n",
      "68.6 %\n",
      "69.8 %\n",
      "71.1 %\n",
      "72.3 %\n",
      "73.6 %\n",
      "74.8 %\n",
      "76.1 %\n",
      "Error: Twitter error response: status code = 503\n",
      "waiting...\n",
      "77.3 %\n",
      "78.6 %\n",
      "79.8 %\n",
      "81.0 %\n",
      "82.3 %\n",
      "83.5 %\n",
      "84.8 %\n",
      "86.0 %\n",
      "87.3 %\n",
      "88.5 %\n",
      "89.8 %\n",
      "91.0 %\n",
      "92.3 %\n",
      "93.5 %\n",
      "94.8 %\n",
      "96.0 %\n",
      "97.3 %\n",
      "98.5 %\n",
      "99.8 %\n",
      "631 tweets fetched in 14810 secs\n"
     ]
    }
   ],
   "source": [
    "# time.sleep(12 * 60)\n",
    "start = time.time()\n",
    "tw_count = 0\n",
    "for i, uid in enumerate(uids):\n",
    "    if i % 5 == 0:\n",
    "        perc = i * 100.0 / len(uids)\n",
    "        print(\"%.1f %%\" % perc)\n",
    "    if uid in tweets:\n",
    "        continue\n",
    "    utweets = TW.traer_timeline(uid, dia=DIA)\n",
    "    tweets[uid] = utweets\n",
    "    tw_count += len(utweets)\n",
    "elapsed = time.time() - start\n",
    "\n",
    "print \"%d tweets fetched in %d secs\" % (tw_count, int(elapsed))"
   ]
  },
  {
   "cell_type": "code",
   "execution_count": 36,
   "metadata": {
    "collapsed": true
   },
   "outputs": [],
   "source": [
    "# Aprox 4hs"
   ]
  },
  {
   "cell_type": "code",
   "execution_count": 33,
   "metadata": {
    "collapsed": false
   },
   "outputs": [
    {
     "data": {
      "text/plain": [
       "401"
      ]
     },
     "execution_count": 33,
     "metadata": {},
     "output_type": "execute_result"
    }
   ],
   "source": [
    "len(tweets)"
   ]
  },
  {
   "cell_type": "code",
   "execution_count": 34,
   "metadata": {
    "collapsed": true
   },
   "outputs": [],
   "source": [
    "from datetime import datetime"
   ]
  },
  {
   "cell_type": "code",
   "execution_count": 35,
   "metadata": {
    "collapsed": false
   },
   "outputs": [],
   "source": [
    "twpath = join(DATA_PATH, 'tweets_%s.json' % datetime.strftime(DIA, '%m-%d'))\n",
    "with open(twpath, 'w') as f:\n",
    "    json.dump(tweets, f)"
   ]
  }
 ],
 "metadata": {
  "kernelspec": {
   "display_name": "Python 2",
   "language": "python",
   "name": "python2"
  },
  "language_info": {
   "codemirror_mode": {
    "name": "ipython",
    "version": 2
   },
   "file_extension": ".py",
   "mimetype": "text/x-python",
   "name": "python",
   "nbconvert_exporter": "python",
   "pygments_lexer": "ipython2",
   "version": "2.7.11+"
  }
 },
 "nbformat": 4,
 "nbformat_minor": 0
}
