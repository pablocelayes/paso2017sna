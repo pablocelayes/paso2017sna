{
 "cells": [
  {
   "cell_type": "code",
   "execution_count": 1,
   "metadata": {
    "collapsed": false
   },
   "outputs": [
    {
     "name": "stdout",
     "output_type": "stream",
     "text": [
      "Switching to API Credentials #4\n"
     ]
    }
   ],
   "source": [
    "import networkx as nx\n",
    "from twitter_api import API_HANDLER as TW\n",
    "from localsettings import DATA_PATH \n",
    "import json\n",
    "\n",
    "from os.path import join, exists\n",
    "\n",
    "DATA_PATH = join(DATA_PATH, './reporte_07_26')"
   ]
  },
  {
   "cell_type": "code",
   "execution_count": 19,
   "metadata": {
    "collapsed": true
   },
   "outputs": [],
   "source": [
    "from datetime import date, datetime"
   ]
  },
  {
   "cell_type": "code",
   "execution_count": 20,
   "metadata": {
    "collapsed": false
   },
   "outputs": [],
   "source": [
    "DIA = date(year=2017, month=7, day=20)"
   ]
  },
  {
   "cell_type": "code",
   "execution_count": 21,
   "metadata": {
    "collapsed": true
   },
   "outputs": [],
   "source": [
    "cuentas = [\n",
    "    'HectorBaldassi',\n",
    "    'MartinLlaryora',\n",
    "]"
   ]
  },
  {
   "cell_type": "code",
   "execution_count": 23,
   "metadata": {
    "collapsed": false
   },
   "outputs": [],
   "source": [
    "# Por ahora traemos tweets sólo de 200 de cada audiencia"
   ]
  },
  {
   "cell_type": "code",
   "execution_count": 24,
   "metadata": {
    "collapsed": true
   },
   "outputs": [],
   "source": [
    "tluids_path = join(DATA_PATH, \"tl_uids.json\")\n",
    "if exists tluids_path:\n",
    "    with open(fpath) as f:\n",
    "        uids = json.load(f)    \n",
    "else:\n",
    "    from random import sample\n",
    "    gpath = join(DATA_PATH, 'red_cands5k.graphml')\n",
    "    g = nx.read_graphml(gpath)\n",
    "\n",
    "    uids = []\n",
    "    uids += sample(g.predecessors(cand_ids[0]), 200)\n",
    "    uids += sample(g.predecessors(cand_ids[1]), 200)\n",
    "\n",
    "    # los candidatos al principio\n",
    "    cand_ids = ['845696348','325778405']        \n",
    "    uids = cand_ids + list(set(uids))\n",
    "    \n",
    "    with open(tluids_path, \"w\") as f:\n",
    "        json.dump(uids, f)"
   ]
  },
  {
   "cell_type": "code",
   "execution_count": 25,
   "metadata": {
    "collapsed": false
   },
   "outputs": [
    {
     "data": {
      "text/plain": [
       "401"
      ]
     },
     "execution_count": 25,
     "metadata": {},
     "output_type": "execute_result"
    }
   ],
   "source": [
    "len(uids)"
   ]
  },
  {
   "cell_type": "code",
   "execution_count": 26,
   "metadata": {
    "collapsed": false
   },
   "outputs": [],
   "source": [
    "twpath = join(DATA_PATH, 'tweets_%s.json' % datetime.strftime(DIA, '%m-%d'))"
   ]
  },
  {
   "cell_type": "code",
   "execution_count": 27,
   "metadata": {
    "collapsed": true
   },
   "outputs": [],
   "source": [
    "if not exists(twpath):\n",
    "    tweets = {}\n",
    "else:\n",
    "    with open(twpath) as f:\n",
    "        tweets = json.load(f)"
   ]
  },
  {
   "cell_type": "code",
   "execution_count": 29,
   "metadata": {
    "collapsed": true
   },
   "outputs": [],
   "source": [
    "import time"
   ]
  },
  {
   "cell_type": "code",
   "execution_count": null,
   "metadata": {
    "collapsed": false
   },
   "outputs": [
    {
     "name": "stdout",
     "output_type": "stream",
     "text": [
      "0.0 %\n"
     ]
    }
   ],
   "source": [
    "# time.sleep(200 * 60)\n",
    "start = time.time()\n",
    "tw_count = 0\n",
    "for i, uid in enumerate(uids):\n",
    "    if uid in tweets:\n",
    "        continue\n",
    "    if i % 10 == 0:\n",
    "        perc = i * 100.0 / len(uids)\n",
    "        print(\"%.1f %%\" % perc)\n",
    "        with open(twpath, 'w') as f:\n",
    "            json.dump(tweets, f)    \n",
    "    utweets = TW.traer_timeline(uid, dia=DIA)\n",
    "    tweets[uid] = utweets\n",
    "    tw_count += len(utweets)\n",
    "elapsed = time.time() - start\n",
    "\n",
    "print \"%d tweets fetched in %d secs\" % (tw_count, int(elapsed))"
   ]
  },
  {
   "cell_type": "code",
   "execution_count": null,
   "metadata": {
    "collapsed": true
   },
   "outputs": [],
   "source": [
    "# Aprox 4hs"
   ]
  },
  {
   "cell_type": "code",
   "execution_count": null,
   "metadata": {
    "collapsed": false
   },
   "outputs": [],
   "source": [
    "len(tweets)"
   ]
  },
  {
   "cell_type": "code",
   "execution_count": null,
   "metadata": {
    "collapsed": false
   },
   "outputs": [],
   "source": [
    "with open(twpath, 'w') as f:\n",
    "    json.dump(tweets, f)"
   ]
  }
 ],
 "metadata": {
  "kernelspec": {
   "display_name": "Python 2",
   "language": "python",
   "name": "python2"
  },
  "language_info": {
   "codemirror_mode": {
    "name": "ipython",
    "version": 2
   },
   "file_extension": ".py",
   "mimetype": "text/x-python",
   "name": "python",
   "nbconvert_exporter": "python",
   "pygments_lexer": "ipython2",
   "version": "2.7.11+"
  }
 },
 "nbformat": 4,
 "nbformat_minor": 0
}
