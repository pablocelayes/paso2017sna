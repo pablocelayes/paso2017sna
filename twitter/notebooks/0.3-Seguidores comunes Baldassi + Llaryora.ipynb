{
 "cells": [
  {
   "cell_type": "code",
   "execution_count": 10,
   "metadata": {
    "collapsed": false
   },
   "outputs": [],
   "source": [
    "import networkx as nx\n",
    "from twitter_api import API_HANDLER as TW\n",
    "from localsettings import DATA_PATH \n",
    "import json\n",
    "\n",
    "from os.path import join"
   ]
  },
  {
   "cell_type": "code",
   "execution_count": 6,
   "metadata": {
    "collapsed": true
   },
   "outputs": [],
   "source": [
    "candidatos = [\n",
    "    'HectorBaldassi',\n",
    "    'MartinLlaryora',\n",
    "]"
   ]
  },
  {
   "cell_type": "code",
   "execution_count": 7,
   "metadata": {
    "collapsed": true
   },
   "outputs": [],
   "source": [
    "cand_ids = ['845696348', '325778405']"
   ]
  },
  {
   "cell_type": "code",
   "execution_count": 11,
   "metadata": {
    "collapsed": false
   },
   "outputs": [],
   "source": [
    "graphpath = join(DATA_PATH, 'red_cands5k.graphml')\n",
    "g = nx.read_graphml(graphpath)"
   ]
  },
  {
   "cell_type": "code",
   "execution_count": 12,
   "metadata": {
    "collapsed": false
   },
   "outputs": [
    {
     "data": {
      "text/plain": [
       "5189"
      ]
     },
     "execution_count": 12,
     "metadata": {},
     "output_type": "execute_result"
    }
   ],
   "source": [
    "g.number_of_edges()"
   ]
  },
  {
   "cell_type": "code",
   "execution_count": 13,
   "metadata": {
    "collapsed": false
   },
   "outputs": [
    {
     "data": {
      "text/plain": [
       "5002"
      ]
     },
     "execution_count": 13,
     "metadata": {},
     "output_type": "execute_result"
    }
   ],
   "source": [
    "g.number_of_nodes()"
   ]
  },
  {
   "cell_type": "code",
   "execution_count": 14,
   "metadata": {
    "collapsed": false
   },
   "outputs": [],
   "source": [
    "comunes = [uid for uid in g.predecessors('845696348') if uid in g.predecessors('325778405')]"
   ]
  },
  {
   "cell_type": "code",
   "execution_count": 15,
   "metadata": {
    "collapsed": false
   },
   "outputs": [
    {
     "data": {
      "text/plain": [
       "189"
      ]
     },
     "execution_count": 15,
     "metadata": {},
     "output_type": "execute_result"
    }
   ],
   "source": [
    "len(comunes)"
   ]
  },
  {
   "cell_type": "code",
   "execution_count": 16,
   "metadata": {
    "collapsed": true
   },
   "outputs": [],
   "source": [
    "# datos de perfil"
   ]
  },
  {
   "cell_type": "code",
   "execution_count": 17,
   "metadata": {
    "collapsed": true
   },
   "outputs": [],
   "source": [
    "comunes_data = []\n",
    "for uid in comunes:\n",
    "    udata = TW.conn_.get_user(user_id=uid)\n",
    "    comunes_data.append(udata._json)"
   ]
  },
  {
   "cell_type": "code",
   "execution_count": 18,
   "metadata": {
    "collapsed": false
   },
   "outputs": [],
   "source": [
    "comunespath = join(DATA_PATH, 'comunes.json')"
   ]
  },
  {
   "cell_type": "code",
   "execution_count": 19,
   "metadata": {
    "collapsed": false
   },
   "outputs": [],
   "source": [
    "with open(comunespath, 'w') as f:\n",
    "    json.dump(comunes_data, f)"
   ]
  },
  {
   "cell_type": "code",
   "execution_count": 20,
   "metadata": {
    "collapsed": true
   },
   "outputs": [],
   "source": [
    "campos = ['id', 'verified', 'followers_count',\\\n",
    "          'protected', 'statuses_count', 'friends_count',\\\n",
    "          'screen_name', 'favourites_count', 'created_at', 'description']\n",
    "\n",
    "import codecs\n",
    "# with open('users_cands5k.csv', 'w') as f:\n",
    "comunescsvpath = join(DATA_PATH, 'comunes.csv')\n",
    "with codecs.open(comunescsvpath, 'w', encoding='utf-8') as f:\n",
    "    f.write('\\t'.join(campos) + '\\n')\n",
    "    for user in comunes_data:\n",
    "        user['description'] = user['description'].replace('\\n', ' ')  \n",
    "        linea = '\\t'.join([unicode(user[c]) for c in campos]) + '\\n'\n",
    "        f.write(linea)"
   ]
  }
 ],
 "metadata": {
  "kernelspec": {
   "display_name": "Python 2",
   "language": "python",
   "name": "python2"
  },
  "language_info": {
   "codemirror_mode": {
    "name": "ipython",
    "version": 2
   },
   "file_extension": ".py",
   "mimetype": "text/x-python",
   "name": "python",
   "nbconvert_exporter": "python",
   "pygments_lexer": "ipython2",
   "version": "2.7.11+"
  }
 },
 "nbformat": 4,
 "nbformat_minor": 0
}
