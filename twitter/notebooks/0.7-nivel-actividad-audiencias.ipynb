{
 "cells": [
  {
   "cell_type": "code",
   "execution_count": 2,
   "metadata": {
    "collapsed": false
   },
   "outputs": [],
   "source": [
    "import networkx as nx\n",
    "from twitter_api import API_HANDLER as TW\n",
    "from localsettings import DATA_PATH \n",
    "import json\n",
    "\n",
    "from os.path import join, exists\n",
    "\n",
    "DATA_PATH = join(DATA_PATH, './reporte_07_26')"
   ]
  },
  {
   "cell_type": "code",
   "execution_count": 2,
   "metadata": {
    "collapsed": true
   },
   "outputs": [],
   "source": [
    "candidatos = [\n",
    "    'HectorBaldassi',\n",
    "    'MartinLlaryora',\n",
    "]"
   ]
  },
  {
   "cell_type": "code",
   "execution_count": 12,
   "metadata": {
    "collapsed": true
   },
   "outputs": [],
   "source": [
    "cand_ids = {'HectorBaldassi': '845696348', 'MartinLlaryora':'325778405'}"
   ]
  },
  {
   "cell_type": "code",
   "execution_count": 3,
   "metadata": {
    "collapsed": true
   },
   "outputs": [],
   "source": [
    "g = nx.read_graphml(join(DATA_PATH,'red_cands5k.graphml'))"
   ]
  },
  {
   "cell_type": "code",
   "execution_count": 4,
   "metadata": {
    "collapsed": false
   },
   "outputs": [
    {
     "data": {
      "text/plain": [
       "401"
      ]
     },
     "execution_count": 4,
     "metadata": {},
     "output_type": "execute_result"
    }
   ],
   "source": [
    "# de estos usuarios tenemos TLs\n",
    "with open(join(DATA_PATH,\"tl_uids.json\")) as f:\n",
    "    tl_uids = json.load(f)\n",
    "len(tl_uids)"
   ]
  },
  {
   "cell_type": "code",
   "execution_count": 11,
   "metadata": {
    "collapsed": true
   },
   "outputs": [],
   "source": [
    "# Contamos tweets por usuarios de los 3 días"
   ]
  },
  {
   "cell_type": "code",
   "execution_count": 6,
   "metadata": {
    "collapsed": true
   },
   "outputs": [],
   "source": [
    "from collections import defaultdict"
   ]
  },
  {
   "cell_type": "code",
   "execution_count": 7,
   "metadata": {
    "collapsed": false
   },
   "outputs": [],
   "source": [
    "tweets = defaultdict(list)"
   ]
  },
  {
   "cell_type": "code",
   "execution_count": 8,
   "metadata": {
    "collapsed": true
   },
   "outputs": [],
   "source": [
    "for day in [19, 20, 21]:\n",
    "    with open(join(DATA_PATH,'tweets_07-%d.json' % day)) as f:\n",
    "        for uid, tws in json.load(f).items():\n",
    "            tweets[uid] += tws"
   ]
  },
  {
   "cell_type": "code",
   "execution_count": 9,
   "metadata": {
    "collapsed": false
   },
   "outputs": [
    {
     "data": {
      "text/plain": [
       "401"
      ]
     },
     "execution_count": 9,
     "metadata": {},
     "output_type": "execute_result"
    }
   ],
   "source": [
    "len(tweets)"
   ]
  },
  {
   "cell_type": "code",
   "execution_count": 13,
   "metadata": {
    "collapsed": false
   },
   "outputs": [],
   "source": [
    "seguidores = {c: [uid for uid in g.predecessors(cand_id) if uid in tl_uids]\\\n",
    "              for c, cand_id in cand_ids.items()}"
   ]
  },
  {
   "cell_type": "code",
   "execution_count": 15,
   "metadata": {
    "collapsed": false
   },
   "outputs": [],
   "source": [
    "tweets_seguidores_counts = {c: [] for c in cand_ids}"
   ]
  },
  {
   "cell_type": "code",
   "execution_count": 17,
   "metadata": {
    "collapsed": false
   },
   "outputs": [],
   "source": [
    "for c in cand_ids:\n",
    "    for uid in seguidores[c]:\n",
    "        tweets_seguidores_counts[c].append(len(tweets[uid]))"
   ]
  },
  {
   "cell_type": "code",
   "execution_count": 23,
   "metadata": {
    "collapsed": false
   },
   "outputs": [],
   "source": [
    "seguidores_activos = {c: [] for c in cand_ids}"
   ]
  },
  {
   "cell_type": "code",
   "execution_count": 24,
   "metadata": {
    "collapsed": false
   },
   "outputs": [],
   "source": [
    "for c in cand_ids:\n",
    "    for count in tweets_seguidores_counts[c]:\n",
    "        if count:\n",
    "            seguidores_activos[c].append(count)"
   ]
  },
  {
   "cell_type": "code",
   "execution_count": 25,
   "metadata": {
    "collapsed": false
   },
   "outputs": [
    {
     "data": {
      "text/plain": [
       "36"
      ]
     },
     "execution_count": 25,
     "metadata": {},
     "output_type": "execute_result"
    }
   ],
   "source": [
    "len(seguidores_activos['MartinLlaryora'])"
   ]
  },
  {
   "cell_type": "code",
   "execution_count": 26,
   "metadata": {
    "collapsed": false
   },
   "outputs": [
    {
     "data": {
      "text/plain": [
       "69"
      ]
     },
     "execution_count": 26,
     "metadata": {},
     "output_type": "execute_result"
    }
   ],
   "source": [
    "len(seguidores_activos['HectorBaldassi'])"
   ]
  },
  {
   "cell_type": "code",
   "execution_count": 48,
   "metadata": {
    "collapsed": false
   },
   "outputs": [
    {
     "data": {
      "text/html": [
       "\n",
       "    <div class=\"bk-root\">\n",
       "        <a href=\"http://bokeh.pydata.org\" target=\"_blank\" class=\"bk-logo bk-logo-small bk-logo-notebook\"></a>\n",
       "        <span id=\"91ec26c0-c503-4d89-90ec-01f97752f4db\">Loading BokehJS ...</span>\n",
       "    </div>"
      ]
     },
     "metadata": {},
     "output_type": "display_data"
    },
    {
     "data": {
      "application/javascript": [
       "\n",
       "(function(global) {\n",
       "  function now() {\n",
       "    return new Date();\n",
       "  }\n",
       "\n",
       "  var force = true;\n",
       "\n",
       "  if (typeof (window._bokeh_onload_callbacks) === \"undefined\" || force === true) {\n",
       "    window._bokeh_onload_callbacks = [];\n",
       "    window._bokeh_is_loading = undefined;\n",
       "  }\n",
       "\n",
       "\n",
       "  \n",
       "  if (typeof (window._bokeh_timeout) === \"undefined\" || force === true) {\n",
       "    window._bokeh_timeout = Date.now() + 5000;\n",
       "    window._bokeh_failed_load = false;\n",
       "  }\n",
       "\n",
       "  var NB_LOAD_WARNING = {'data': {'text/html':\n",
       "     \"<div style='background-color: #fdd'>\\n\"+\n",
       "     \"<p>\\n\"+\n",
       "     \"BokehJS does not appear to have successfully loaded. If loading BokehJS from CDN, this \\n\"+\n",
       "     \"may be due to a slow or bad network connection. Possible fixes:\\n\"+\n",
       "     \"</p>\\n\"+\n",
       "     \"<ul>\\n\"+\n",
       "     \"<li>re-rerun `output_notebook()` to attempt to load from CDN again, or</li>\\n\"+\n",
       "     \"<li>use INLINE resources instead, as so:</li>\\n\"+\n",
       "     \"</ul>\\n\"+\n",
       "     \"<code>\\n\"+\n",
       "     \"from bokeh.resources import INLINE\\n\"+\n",
       "     \"output_notebook(resources=INLINE)\\n\"+\n",
       "     \"</code>\\n\"+\n",
       "     \"</div>\"}};\n",
       "\n",
       "  function display_loaded() {\n",
       "    if (window.Bokeh !== undefined) {\n",
       "      var el = document.getElementById(\"91ec26c0-c503-4d89-90ec-01f97752f4db\");\n",
       "      el.textContent = \"BokehJS \" + Bokeh.version + \" successfully loaded.\";\n",
       "    } else if (Date.now() < window._bokeh_timeout) {\n",
       "      setTimeout(display_loaded, 100)\n",
       "    }\n",
       "  }\n",
       "\n",
       "  function run_callbacks() {\n",
       "    try {\n",
       "      window._bokeh_onload_callbacks.forEach(function(callback) { callback() });\n",
       "    }\n",
       "    finally {\n",
       "      delete window._bokeh_onload_callbacks\n",
       "    }\n",
       "    console.info(\"Bokeh: all callbacks have finished\");\n",
       "  }\n",
       "\n",
       "  function load_libs(js_urls, callback) {\n",
       "    window._bokeh_onload_callbacks.push(callback);\n",
       "    if (window._bokeh_is_loading > 0) {\n",
       "      console.log(\"Bokeh: BokehJS is being loaded, scheduling callback at\", now());\n",
       "      return null;\n",
       "    }\n",
       "    if (js_urls == null || js_urls.length === 0) {\n",
       "      run_callbacks();\n",
       "      return null;\n",
       "    }\n",
       "    console.log(\"Bokeh: BokehJS not loaded, scheduling load and callback at\", now());\n",
       "    window._bokeh_is_loading = js_urls.length;\n",
       "    for (var i = 0; i < js_urls.length; i++) {\n",
       "      var url = js_urls[i];\n",
       "      var s = document.createElement('script');\n",
       "      s.src = url;\n",
       "      s.async = false;\n",
       "      s.onreadystatechange = s.onload = function() {\n",
       "        window._bokeh_is_loading--;\n",
       "        if (window._bokeh_is_loading === 0) {\n",
       "          console.log(\"Bokeh: all BokehJS libraries loaded\");\n",
       "          run_callbacks()\n",
       "        }\n",
       "      };\n",
       "      s.onerror = function() {\n",
       "        console.warn(\"failed to load library \" + url);\n",
       "      };\n",
       "      console.log(\"Bokeh: injecting script tag for BokehJS library: \", url);\n",
       "      document.getElementsByTagName(\"head\")[0].appendChild(s);\n",
       "    }\n",
       "  };var element = document.getElementById(\"91ec26c0-c503-4d89-90ec-01f97752f4db\");\n",
       "  if (element == null) {\n",
       "    console.log(\"Bokeh: ERROR: autoload.js configured with elementid '91ec26c0-c503-4d89-90ec-01f97752f4db' but no matching script tag was found. \")\n",
       "    return false;\n",
       "  }\n",
       "\n",
       "  var js_urls = [\"https://cdn.pydata.org/bokeh/release/bokeh-0.12.6.min.js\", \"https://cdn.pydata.org/bokeh/release/bokeh-widgets-0.12.6.min.js\"];\n",
       "\n",
       "  var inline_js = [\n",
       "    function(Bokeh) {\n",
       "      Bokeh.set_log_level(\"info\");\n",
       "    },\n",
       "    \n",
       "    function(Bokeh) {\n",
       "      \n",
       "    },\n",
       "    \n",
       "    function(Bokeh) {\n",
       "      \n",
       "      document.getElementById(\"91ec26c0-c503-4d89-90ec-01f97752f4db\").textContent = \"BokehJS is loading...\";\n",
       "    },\n",
       "    function(Bokeh) {\n",
       "      console.log(\"Bokeh: injecting CSS: https://cdn.pydata.org/bokeh/release/bokeh-0.12.6.min.css\");\n",
       "      Bokeh.embed.inject_css(\"https://cdn.pydata.org/bokeh/release/bokeh-0.12.6.min.css\");\n",
       "      console.log(\"Bokeh: injecting CSS: https://cdn.pydata.org/bokeh/release/bokeh-widgets-0.12.6.min.css\");\n",
       "      Bokeh.embed.inject_css(\"https://cdn.pydata.org/bokeh/release/bokeh-widgets-0.12.6.min.css\");\n",
       "    }\n",
       "  ];\n",
       "\n",
       "  function run_inline_js() {\n",
       "    \n",
       "    if ((window.Bokeh !== undefined) || (force === true)) {\n",
       "      for (var i = 0; i < inline_js.length; i++) {\n",
       "        inline_js[i](window.Bokeh);\n",
       "      }if (force === true) {\n",
       "        display_loaded();\n",
       "      }} else if (Date.now() < window._bokeh_timeout) {\n",
       "      setTimeout(run_inline_js, 100);\n",
       "    } else if (!window._bokeh_failed_load) {\n",
       "      console.log(\"Bokeh: BokehJS failed to load within specified timeout.\");\n",
       "      window._bokeh_failed_load = true;\n",
       "    } else if (force !== true) {\n",
       "      var cell = $(document.getElementById(\"91ec26c0-c503-4d89-90ec-01f97752f4db\")).parents('.cell').data().cell;\n",
       "      cell.output_area.append_execute_result(NB_LOAD_WARNING)\n",
       "    }\n",
       "\n",
       "  }\n",
       "\n",
       "  if (window._bokeh_is_loading === 0) {\n",
       "    console.log(\"Bokeh: BokehJS loaded, going straight to plotting\");\n",
       "    run_inline_js();\n",
       "  } else {\n",
       "    load_libs(js_urls, function() {\n",
       "      console.log(\"Bokeh: BokehJS plotting callback run at\", now());\n",
       "      run_inline_js();\n",
       "    });\n",
       "  }\n",
       "}(this));"
      ]
     },
     "metadata": {},
     "output_type": "display_data"
    }
   ],
   "source": [
    "from bokeh.charts import Histogram, output_notebook, output_file, reset_output, show\n",
    "output_notebook()\n",
    "bins = range(0,101,10)"
   ]
  },
  {
   "cell_type": "code",
   "execution_count": 49,
   "metadata": {
    "collapsed": false
   },
   "outputs": [
    {
     "data": {
      "text/html": [
       "\n",
       "\n",
       "    <div class=\"bk-root\">\n",
       "        <div class=\"bk-plotdiv\" id=\"75c6bd1b-3333-4e1d-bfe4-0684a2ae01b2\"></div>\n",
       "    </div>\n",
       "<script type=\"text/javascript\">\n",
       "  \n",
       "  (function(global) {\n",
       "    function now() {\n",
       "      return new Date();\n",
       "    }\n",
       "  \n",
       "    var force = false;\n",
       "  \n",
       "    if (typeof (window._bokeh_onload_callbacks) === \"undefined\" || force === true) {\n",
       "      window._bokeh_onload_callbacks = [];\n",
       "      window._bokeh_is_loading = undefined;\n",
       "    }\n",
       "  \n",
       "  \n",
       "    \n",
       "    if (typeof (window._bokeh_timeout) === \"undefined\" || force === true) {\n",
       "      window._bokeh_timeout = Date.now() + 0;\n",
       "      window._bokeh_failed_load = false;\n",
       "    }\n",
       "  \n",
       "    var NB_LOAD_WARNING = {'data': {'text/html':\n",
       "       \"<div style='background-color: #fdd'>\\n\"+\n",
       "       \"<p>\\n\"+\n",
       "       \"BokehJS does not appear to have successfully loaded. If loading BokehJS from CDN, this \\n\"+\n",
       "       \"may be due to a slow or bad network connection. Possible fixes:\\n\"+\n",
       "       \"</p>\\n\"+\n",
       "       \"<ul>\\n\"+\n",
       "       \"<li>re-rerun `output_notebook()` to attempt to load from CDN again, or</li>\\n\"+\n",
       "       \"<li>use INLINE resources instead, as so:</li>\\n\"+\n",
       "       \"</ul>\\n\"+\n",
       "       \"<code>\\n\"+\n",
       "       \"from bokeh.resources import INLINE\\n\"+\n",
       "       \"output_notebook(resources=INLINE)\\n\"+\n",
       "       \"</code>\\n\"+\n",
       "       \"</div>\"}};\n",
       "  \n",
       "    function display_loaded() {\n",
       "      if (window.Bokeh !== undefined) {\n",
       "        var el = document.getElementById(\"75c6bd1b-3333-4e1d-bfe4-0684a2ae01b2\");\n",
       "        el.textContent = \"BokehJS \" + Bokeh.version + \" successfully loaded.\";\n",
       "      } else if (Date.now() < window._bokeh_timeout) {\n",
       "        setTimeout(display_loaded, 100)\n",
       "      }\n",
       "    }\n",
       "  \n",
       "    function run_callbacks() {\n",
       "      try {\n",
       "        window._bokeh_onload_callbacks.forEach(function(callback) { callback() });\n",
       "      }\n",
       "      finally {\n",
       "        delete window._bokeh_onload_callbacks\n",
       "      }\n",
       "      console.info(\"Bokeh: all callbacks have finished\");\n",
       "    }\n",
       "  \n",
       "    function load_libs(js_urls, callback) {\n",
       "      window._bokeh_onload_callbacks.push(callback);\n",
       "      if (window._bokeh_is_loading > 0) {\n",
       "        console.log(\"Bokeh: BokehJS is being loaded, scheduling callback at\", now());\n",
       "        return null;\n",
       "      }\n",
       "      if (js_urls == null || js_urls.length === 0) {\n",
       "        run_callbacks();\n",
       "        return null;\n",
       "      }\n",
       "      console.log(\"Bokeh: BokehJS not loaded, scheduling load and callback at\", now());\n",
       "      window._bokeh_is_loading = js_urls.length;\n",
       "      for (var i = 0; i < js_urls.length; i++) {\n",
       "        var url = js_urls[i];\n",
       "        var s = document.createElement('script');\n",
       "        s.src = url;\n",
       "        s.async = false;\n",
       "        s.onreadystatechange = s.onload = function() {\n",
       "          window._bokeh_is_loading--;\n",
       "          if (window._bokeh_is_loading === 0) {\n",
       "            console.log(\"Bokeh: all BokehJS libraries loaded\");\n",
       "            run_callbacks()\n",
       "          }\n",
       "        };\n",
       "        s.onerror = function() {\n",
       "          console.warn(\"failed to load library \" + url);\n",
       "        };\n",
       "        console.log(\"Bokeh: injecting script tag for BokehJS library: \", url);\n",
       "        document.getElementsByTagName(\"head\")[0].appendChild(s);\n",
       "      }\n",
       "    };var element = document.getElementById(\"75c6bd1b-3333-4e1d-bfe4-0684a2ae01b2\");\n",
       "    if (element == null) {\n",
       "      console.log(\"Bokeh: ERROR: autoload.js configured with elementid '75c6bd1b-3333-4e1d-bfe4-0684a2ae01b2' but no matching script tag was found. \")\n",
       "      return false;\n",
       "    }\n",
       "  \n",
       "    var js_urls = [];\n",
       "  \n",
       "    var inline_js = [\n",
       "      function(Bokeh) {\n",
       "        (function() {\n",
       "          var fn = function() {\n",
       "            var docs_json = {\"4e5de109-81d2-4516-b507-f9948b50f9f4\":{\"roots\":{\"references\":[{\"attributes\":{\"plot\":{\"id\":\"45afb9ec-c37b-4255-8b28-5b506ddea60f\",\"subtype\":\"Chart\",\"type\":\"Plot\"}},\"id\":\"fa2fbbdd-8e09-44bf-9d22-2d16d0c839e6\",\"type\":\"PanTool\"},{\"attributes\":{\"fill_alpha\":{\"field\":\"fill_alpha\"},\"fill_color\":{\"field\":\"color\"},\"height\":{\"field\":\"height\",\"units\":\"data\"},\"line_color\":{\"field\":\"line_color\"},\"width\":{\"field\":\"width\",\"units\":\"data\"},\"x\":{\"field\":\"x\"},\"y\":{\"field\":\"y\"}},\"id\":\"d9123887-d253-4d99-8153-b699fdd3c763\",\"type\":\"Rect\"},{\"attributes\":{\"fill_alpha\":{\"field\":\"fill_alpha\"},\"fill_color\":{\"field\":\"color\"},\"height\":{\"field\":\"height\",\"units\":\"data\"},\"line_color\":{\"field\":\"line_color\"},\"width\":{\"field\":\"width\",\"units\":\"data\"},\"x\":{\"field\":\"x\"},\"y\":{\"field\":\"y\"}},\"id\":\"29d11351-a7aa-4aa0-ae5e-46e7521b6900\",\"type\":\"Rect\"},{\"attributes\":{\"plot\":{\"id\":\"45afb9ec-c37b-4255-8b28-5b506ddea60f\",\"subtype\":\"Chart\",\"type\":\"Plot\"}},\"id\":\"d77fc70d-2571-4ba8-a5d3-1a431e9d4424\",\"type\":\"SaveTool\"},{\"attributes\":{\"data_source\":{\"id\":\"7e3bb716-fe5c-4ed9-9e45-4557bf8592a5\",\"type\":\"ColumnDataSource\"},\"glyph\":{\"id\":\"29d11351-a7aa-4aa0-ae5e-46e7521b6900\",\"type\":\"Rect\"},\"hover_glyph\":null,\"muted_glyph\":null},\"id\":\"c993bf92-f8ca-4cd8-95c7-fa936089a6a8\",\"type\":\"GlyphRenderer\"},{\"attributes\":{\"bottom_units\":\"screen\",\"fill_alpha\":{\"value\":0.5},\"fill_color\":{\"value\":\"lightgrey\"},\"left_units\":\"screen\",\"level\":\"overlay\",\"line_alpha\":{\"value\":1.0},\"line_color\":{\"value\":\"black\"},\"line_dash\":[4,4],\"line_width\":{\"value\":2},\"plot\":null,\"render_mode\":\"css\",\"right_units\":\"screen\",\"top_units\":\"screen\"},\"id\":\"3c1efead-eebb-4c60-8ca8-7ff9497096fd\",\"type\":\"BoxAnnotation\"},{\"attributes\":{\"data_source\":{\"id\":\"0837bec6-66a0-46de-ba3b-6ef6b3a70e86\",\"type\":\"ColumnDataSource\"},\"glyph\":{\"id\":\"c6710f32-3b54-496e-b20b-a763423d41f5\",\"type\":\"Rect\"},\"hover_glyph\":null,\"muted_glyph\":null},\"id\":\"57683049-af2e-4e15-9464-eb29affac266\",\"type\":\"GlyphRenderer\"},{\"attributes\":{\"data_source\":{\"id\":\"2407034a-c4d0-467c-ac1a-e2c40ddcb1a2\",\"type\":\"ColumnDataSource\"},\"glyph\":{\"id\":\"d9123887-d253-4d99-8153-b699fdd3c763\",\"type\":\"Rect\"},\"hover_glyph\":null,\"muted_glyph\":null},\"id\":\"26e694ec-aea6-4859-8b4d-7ff7b7f9bcba\",\"type\":\"GlyphRenderer\"},{\"attributes\":{\"data_source\":{\"id\":\"ac546514-0c47-4a07-a572-d7f0f070e42b\",\"type\":\"ColumnDataSource\"},\"glyph\":{\"id\":\"177a2916-eec6-4a0a-a1e9-1e313cc668af\",\"type\":\"Rect\"},\"hover_glyph\":null,\"muted_glyph\":null},\"id\":\"400e6467-23ff-4095-998b-9d6c1fd8b3df\",\"type\":\"GlyphRenderer\"},{\"attributes\":{\"fill_alpha\":{\"field\":\"fill_alpha\"},\"fill_color\":{\"field\":\"color\"},\"height\":{\"field\":\"height\",\"units\":\"data\"},\"line_color\":{\"field\":\"line_color\"},\"width\":{\"field\":\"width\",\"units\":\"data\"},\"x\":{\"field\":\"x\"},\"y\":{\"field\":\"y\"}},\"id\":\"b2e9428f-b600-4ab8-a9bd-4fe232f0cccc\",\"type\":\"Rect\"},{\"attributes\":{\"plot\":{\"id\":\"45afb9ec-c37b-4255-8b28-5b506ddea60f\",\"subtype\":\"Chart\",\"type\":\"Plot\"}},\"id\":\"974d89da-9d12-4b37-b491-76bb7d2db89f\",\"type\":\"HelpTool\"},{\"attributes\":{\"callback\":null,\"column_names\":[\"line_color\",\"line_alpha\",\"color\",\"fill_alpha\",\"height\",\"width\",\"y\",\"x\",\"label\"],\"data\":{\"chart_index\":[\"(50.000000, 60.000000]\"],\"color\":[\"#f22c40\"],\"fill_alpha\":[0.8],\"height\":[0.0],\"label\":[\"(50.000000, 60.000000]\"],\"line_alpha\":[1.0],\"line_color\":[\"black\"],\"width\":[10],\"x\":[\"55.0\"],\"y\":[0.0]}},\"id\":\"7e3bb716-fe5c-4ed9-9e45-4557bf8592a5\",\"type\":\"ColumnDataSource\"},{\"attributes\":{\"fill_alpha\":{\"field\":\"fill_alpha\"},\"fill_color\":{\"field\":\"color\"},\"height\":{\"field\":\"height\",\"units\":\"data\"},\"line_color\":{\"field\":\"line_color\"},\"width\":{\"field\":\"width\",\"units\":\"data\"},\"x\":{\"field\":\"x\"},\"y\":{\"field\":\"y\"}},\"id\":\"606e48a3-b969-46c7-99a4-4b15377e154a\",\"type\":\"Rect\"},{\"attributes\":{\"callback\":null,\"end\":102.5,\"start\":-2.5},\"id\":\"3d06215c-13bc-4380-b312-790a12a3f34c\",\"type\":\"Range1d\"},{\"attributes\":{\"data_source\":{\"id\":\"4ac167ce-67bf-4729-b38b-89ae0648f6af\",\"type\":\"ColumnDataSource\"},\"glyph\":{\"id\":\"d1676ce8-e24e-4c92-bcc3-87e9b277075c\",\"type\":\"Rect\"},\"hover_glyph\":null,\"muted_glyph\":null},\"id\":\"7ceda7db-3615-4f2b-bb14-42e034c10375\",\"type\":\"GlyphRenderer\"},{\"attributes\":{},\"id\":\"ef006ffc-7b86-4b89-b21b-b1b177e7fd64\",\"type\":\"BasicTicker\"},{\"attributes\":{},\"id\":\"1e2636c3-695e-4f51-8308-2f69f4a45491\",\"type\":\"LinearScale\"},{\"attributes\":{\"callback\":null,\"column_names\":[\"line_color\",\"line_alpha\",\"color\",\"fill_alpha\",\"height\",\"width\",\"y\",\"x\",\"label\"],\"data\":{\"chart_index\":[\"(10.000000, 20.000000]\"],\"color\":[\"#f22c40\"],\"fill_alpha\":[0.8],\"height\":[4.0],\"label\":[\"(10.000000, 20.000000]\"],\"line_alpha\":[1.0],\"line_color\":[\"black\"],\"width\":[10],\"x\":[\"15.0\"],\"y\":[2.0]}},\"id\":\"2407034a-c4d0-467c-ac1a-e2c40ddcb1a2\",\"type\":\"ColumnDataSource\"},{\"attributes\":{\"below\":[{\"id\":\"bd7ed18a-1d75-4afc-a28a-87dd107d5c8b\",\"type\":\"LinearAxis\"}],\"css_classes\":null,\"left\":[{\"id\":\"bd52036f-4472-4da6-96e5-eb4aee380f4a\",\"type\":\"LinearAxis\"}],\"renderers\":[{\"id\":\"3c1efead-eebb-4c60-8ca8-7ff9497096fd\",\"type\":\"BoxAnnotation\"},{\"id\":\"60aa8d8e-27b7-414b-b50b-aab25b5b08f2\",\"type\":\"GlyphRenderer\"},{\"id\":\"26e694ec-aea6-4859-8b4d-7ff7b7f9bcba\",\"type\":\"GlyphRenderer\"},{\"id\":\"57683049-af2e-4e15-9464-eb29affac266\",\"type\":\"GlyphRenderer\"},{\"id\":\"739a8b60-673b-482d-a6cf-a78ff1fe68d3\",\"type\":\"GlyphRenderer\"},{\"id\":\"400e6467-23ff-4095-998b-9d6c1fd8b3df\",\"type\":\"GlyphRenderer\"},{\"id\":\"c993bf92-f8ca-4cd8-95c7-fa936089a6a8\",\"type\":\"GlyphRenderer\"},{\"id\":\"7ceda7db-3615-4f2b-bb14-42e034c10375\",\"type\":\"GlyphRenderer\"},{\"id\":\"538b9fa4-5500-40b2-980a-5babfb002552\",\"type\":\"GlyphRenderer\"},{\"id\":\"e6860ccd-49b7-4400-89e3-54839e7567af\",\"type\":\"GlyphRenderer\"},{\"id\":\"6da47972-e51c-4f30-bc85-2d588c1e0ad8\",\"type\":\"GlyphRenderer\"},{\"id\":\"a9bafc70-4a46-4a47-a2fc-3515b0ea2f56\",\"type\":\"Legend\"},{\"id\":\"bd7ed18a-1d75-4afc-a28a-87dd107d5c8b\",\"type\":\"LinearAxis\"},{\"id\":\"bd52036f-4472-4da6-96e5-eb4aee380f4a\",\"type\":\"LinearAxis\"},{\"id\":\"03e7577c-6479-49de-810a-b37db491952a\",\"type\":\"Grid\"}],\"title\":{\"id\":\"59177a29-2b4f-4da9-a5cb-e089ba531ac1\",\"type\":\"Title\"},\"tool_events\":{\"id\":\"032928da-7818-434d-873d-f99c39875f0a\",\"type\":\"ToolEvents\"},\"toolbar\":{\"id\":\"a0bc4f6f-bd45-4580-b0cb-bf7658b27a21\",\"type\":\"Toolbar\"},\"x_range\":{\"id\":\"3d06215c-13bc-4380-b312-790a12a3f34c\",\"type\":\"Range1d\"},\"x_scale\":{\"id\":\"19c7f629-5ebf-4fce-9c41-68c3d72c7aae\",\"type\":\"LinearScale\"},\"y_range\":{\"id\":\"6b041e7f-98d7-47cf-bc9a-b85ebc0a9883\",\"type\":\"Range1d\"},\"y_scale\":{\"id\":\"1e2636c3-695e-4f51-8308-2f69f4a45491\",\"type\":\"LinearScale\"}},\"id\":\"45afb9ec-c37b-4255-8b28-5b506ddea60f\",\"subtype\":\"Chart\",\"type\":\"Plot\"},{\"attributes\":{},\"id\":\"0004db2d-a192-4f21-91b6-19a7fb5a682e\",\"type\":\"BasicTickFormatter\"},{\"attributes\":{\"data_source\":{\"id\":\"2d312419-114c-4b38-9f2d-21f71b154d77\",\"type\":\"ColumnDataSource\"},\"glyph\":{\"id\":\"b2e9428f-b600-4ab8-a9bd-4fe232f0cccc\",\"type\":\"Rect\"},\"hover_glyph\":null,\"muted_glyph\":null},\"id\":\"6da47972-e51c-4f30-bc85-2d588c1e0ad8\",\"type\":\"GlyphRenderer\"},{\"attributes\":{\"axis_label\":\"#tweets\",\"formatter\":{\"id\":\"0004db2d-a192-4f21-91b6-19a7fb5a682e\",\"type\":\"BasicTickFormatter\"},\"plot\":{\"id\":\"45afb9ec-c37b-4255-8b28-5b506ddea60f\",\"subtype\":\"Chart\",\"type\":\"Plot\"},\"ticker\":{\"id\":\"ef006ffc-7b86-4b89-b21b-b1b177e7fd64\",\"type\":\"BasicTicker\"}},\"id\":\"bd7ed18a-1d75-4afc-a28a-87dd107d5c8b\",\"type\":\"LinearAxis\"},{\"attributes\":{\"callback\":null,\"column_names\":[\"line_color\",\"line_alpha\",\"color\",\"fill_alpha\",\"height\",\"width\",\"y\",\"x\",\"label\"],\"data\":{\"chart_index\":[\"(20.000000, 30.000000]\"],\"color\":[\"#f22c40\"],\"fill_alpha\":[0.8],\"height\":[4.0],\"label\":[\"(20.000000, 30.000000]\"],\"line_alpha\":[1.0],\"line_color\":[\"black\"],\"width\":[10],\"x\":[\"25.0\"],\"y\":[2.0]}},\"id\":\"0837bec6-66a0-46de-ba3b-6ef6b3a70e86\",\"type\":\"ColumnDataSource\"},{\"attributes\":{\"fill_alpha\":{\"field\":\"fill_alpha\"},\"fill_color\":{\"field\":\"color\"},\"height\":{\"field\":\"height\",\"units\":\"data\"},\"line_color\":{\"field\":\"line_color\"},\"width\":{\"field\":\"width\",\"units\":\"data\"},\"x\":{\"field\":\"x\"},\"y\":{\"field\":\"y\"}},\"id\":\"d1676ce8-e24e-4c92-bcc3-87e9b277075c\",\"type\":\"Rect\"},{\"attributes\":{\"plot\":{\"id\":\"45afb9ec-c37b-4255-8b28-5b506ddea60f\",\"subtype\":\"Chart\",\"type\":\"Plot\"}},\"id\":\"e95e91de-71ee-4c58-aef1-ecf23d49315f\",\"type\":\"ResetTool\"},{\"attributes\":{},\"id\":\"ee0d1bc8-25f4-4656-94d6-eb9ce5b26474\",\"type\":\"BasicTickFormatter\"},{\"attributes\":{\"callback\":null,\"column_names\":[\"line_color\",\"line_alpha\",\"color\",\"fill_alpha\",\"height\",\"width\",\"y\",\"x\",\"label\"],\"data\":{\"chart_index\":[\"(60.000000, 70.000000]\"],\"color\":[\"#f22c40\"],\"fill_alpha\":[0.8],\"height\":[1.0],\"label\":[\"(60.000000, 70.000000]\"],\"line_alpha\":[1.0],\"line_color\":[\"black\"],\"width\":[10],\"x\":[\"65.0\"],\"y\":[0.5]}},\"id\":\"4ac167ce-67bf-4729-b38b-89ae0648f6af\",\"type\":\"ColumnDataSource\"},{\"attributes\":{\"data_source\":{\"id\":\"9bcfec5f-7be2-4e9c-b274-cea6c74d81f0\",\"type\":\"ColumnDataSource\"},\"glyph\":{\"id\":\"dd6c6846-5388-4191-82c2-0f0827898a3a\",\"type\":\"Rect\"},\"hover_glyph\":null,\"muted_glyph\":null},\"id\":\"e6860ccd-49b7-4400-89e3-54839e7567af\",\"type\":\"GlyphRenderer\"},{\"attributes\":{\"axis_label\":\"# usuarios\",\"formatter\":{\"id\":\"ee0d1bc8-25f4-4656-94d6-eb9ce5b26474\",\"type\":\"BasicTickFormatter\"},\"plot\":{\"id\":\"45afb9ec-c37b-4255-8b28-5b506ddea60f\",\"subtype\":\"Chart\",\"type\":\"Plot\"},\"ticker\":{\"id\":\"ac873110-02bc-407e-9b21-6d99cf038582\",\"type\":\"BasicTicker\"}},\"id\":\"bd52036f-4472-4da6-96e5-eb4aee380f4a\",\"type\":\"LinearAxis\"},{\"attributes\":{\"overlay\":{\"id\":\"3c1efead-eebb-4c60-8ca8-7ff9497096fd\",\"type\":\"BoxAnnotation\"},\"plot\":{\"id\":\"45afb9ec-c37b-4255-8b28-5b506ddea60f\",\"subtype\":\"Chart\",\"type\":\"Plot\"}},\"id\":\"021b1bde-3eca-47ce-81b6-e4de7770b696\",\"type\":\"BoxZoomTool\"},{\"attributes\":{\"plot\":{\"id\":\"45afb9ec-c37b-4255-8b28-5b506ddea60f\",\"subtype\":\"Chart\",\"type\":\"Plot\"}},\"id\":\"4e356ceb-98cb-4d67-b6e5-2839c201e7f1\",\"type\":\"WheelZoomTool\"},{\"attributes\":{\"data_source\":{\"id\":\"25e0dec3-dfac-48cc-ad8b-4efd90f9ac5b\",\"type\":\"ColumnDataSource\"},\"glyph\":{\"id\":\"b6b91fa7-e4b7-4bd5-9c72-7633cc94c6bd\",\"type\":\"Rect\"},\"hover_glyph\":null,\"muted_glyph\":null},\"id\":\"60aa8d8e-27b7-414b-b50b-aab25b5b08f2\",\"type\":\"GlyphRenderer\"},{\"attributes\":{\"fill_alpha\":{\"field\":\"fill_alpha\"},\"fill_color\":{\"field\":\"color\"},\"height\":{\"field\":\"height\",\"units\":\"data\"},\"line_color\":{\"field\":\"line_color\"},\"width\":{\"field\":\"width\",\"units\":\"data\"},\"x\":{\"field\":\"x\"},\"y\":{\"field\":\"y\"}},\"id\":\"dd6c6846-5388-4191-82c2-0f0827898a3a\",\"type\":\"Rect\"},{\"attributes\":{\"callback\":null,\"column_names\":[\"line_color\",\"line_alpha\",\"color\",\"fill_alpha\",\"height\",\"width\",\"y\",\"x\",\"label\"],\"data\":{\"chart_index\":[\"(70.000000, 80.000000]\"],\"color\":[\"#f22c40\"],\"fill_alpha\":[0.8],\"height\":[1.0],\"label\":[\"(70.000000, 80.000000]\"],\"line_alpha\":[1.0],\"line_color\":[\"black\"],\"width\":[10],\"x\":[\"75.0\"],\"y\":[0.5]}},\"id\":\"bcb2e400-ae8a-43f4-bc33-8624098fae09\",\"type\":\"ColumnDataSource\"},{\"attributes\":{\"callback\":null,\"column_names\":[\"line_color\",\"line_alpha\",\"color\",\"fill_alpha\",\"height\",\"width\",\"y\",\"x\",\"label\"],\"data\":{\"chart_index\":[\"[0.000000, 10.000000]\"],\"color\":[\"#f22c40\"],\"fill_alpha\":[0.8],\"height\":[24.0],\"label\":[\"[0.000000, 10.000000]\"],\"line_alpha\":[1.0],\"line_color\":[\"black\"],\"width\":[10],\"x\":[\"5.0\"],\"y\":[12.0]}},\"id\":\"25e0dec3-dfac-48cc-ad8b-4efd90f9ac5b\",\"type\":\"ColumnDataSource\"},{\"attributes\":{\"callback\":null,\"column_names\":[\"line_color\",\"line_alpha\",\"color\",\"fill_alpha\",\"height\",\"width\",\"y\",\"x\",\"label\"],\"data\":{\"chart_index\":[\"(40.000000, 50.000000]\"],\"color\":[\"#f22c40\"],\"fill_alpha\":[0.8],\"height\":[0.0],\"label\":[\"(40.000000, 50.000000]\"],\"line_alpha\":[1.0],\"line_color\":[\"black\"],\"width\":[10],\"x\":[\"45.0\"],\"y\":[0.0]}},\"id\":\"ac546514-0c47-4a07-a572-d7f0f070e42b\",\"type\":\"ColumnDataSource\"},{\"attributes\":{\"active_drag\":\"auto\",\"active_inspect\":\"auto\",\"active_scroll\":\"auto\",\"active_tap\":\"auto\",\"tools\":[{\"id\":\"fa2fbbdd-8e09-44bf-9d22-2d16d0c839e6\",\"type\":\"PanTool\"},{\"id\":\"4e356ceb-98cb-4d67-b6e5-2839c201e7f1\",\"type\":\"WheelZoomTool\"},{\"id\":\"021b1bde-3eca-47ce-81b6-e4de7770b696\",\"type\":\"BoxZoomTool\"},{\"id\":\"d77fc70d-2571-4ba8-a5d3-1a431e9d4424\",\"type\":\"SaveTool\"},{\"id\":\"e95e91de-71ee-4c58-aef1-ecf23d49315f\",\"type\":\"ResetTool\"},{\"id\":\"974d89da-9d12-4b37-b491-76bb7d2db89f\",\"type\":\"HelpTool\"}]},\"id\":\"a0bc4f6f-bd45-4580-b0cb-bf7658b27a21\",\"type\":\"Toolbar\"},{\"attributes\":{\"fill_alpha\":{\"field\":\"fill_alpha\"},\"fill_color\":{\"field\":\"color\"},\"height\":{\"field\":\"height\",\"units\":\"data\"},\"line_color\":{\"field\":\"line_color\"},\"width\":{\"field\":\"width\",\"units\":\"data\"},\"x\":{\"field\":\"x\"},\"y\":{\"field\":\"y\"}},\"id\":\"177a2916-eec6-4a0a-a1e9-1e313cc668af\",\"type\":\"Rect\"},{\"attributes\":{\"data_source\":{\"id\":\"237a24b7-0ab4-4345-9f3c-45b79735f25c\",\"type\":\"ColumnDataSource\"},\"glyph\":{\"id\":\"ab9d606b-7ca7-4539-a33d-457c2c41fe03\",\"type\":\"Rect\"},\"hover_glyph\":null,\"muted_glyph\":null},\"id\":\"739a8b60-673b-482d-a6cf-a78ff1fe68d3\",\"type\":\"GlyphRenderer\"},{\"attributes\":{\"callback\":null,\"end\":26.400000000000002},\"id\":\"6b041e7f-98d7-47cf-bc9a-b85ebc0a9883\",\"type\":\"Range1d\"},{\"attributes\":{\"location\":\"top_left\",\"plot\":{\"id\":\"45afb9ec-c37b-4255-8b28-5b506ddea60f\",\"subtype\":\"Chart\",\"type\":\"Plot\"}},\"id\":\"a9bafc70-4a46-4a47-a2fc-3515b0ea2f56\",\"type\":\"Legend\"},{\"attributes\":{\"fill_alpha\":{\"field\":\"fill_alpha\"},\"fill_color\":{\"field\":\"color\"},\"height\":{\"field\":\"height\",\"units\":\"data\"},\"line_color\":{\"field\":\"line_color\"},\"width\":{\"field\":\"width\",\"units\":\"data\"},\"x\":{\"field\":\"x\"},\"y\":{\"field\":\"y\"}},\"id\":\"c6710f32-3b54-496e-b20b-a763423d41f5\",\"type\":\"Rect\"},{\"attributes\":{\"plot\":null,\"text\":null},\"id\":\"59177a29-2b4f-4da9-a5cb-e089ba531ac1\",\"type\":\"Title\"},{\"attributes\":{\"fill_alpha\":{\"field\":\"fill_alpha\"},\"fill_color\":{\"field\":\"color\"},\"height\":{\"field\":\"height\",\"units\":\"data\"},\"line_color\":{\"field\":\"line_color\"},\"width\":{\"field\":\"width\",\"units\":\"data\"},\"x\":{\"field\":\"x\"},\"y\":{\"field\":\"y\"}},\"id\":\"b6b91fa7-e4b7-4bd5-9c72-7633cc94c6bd\",\"type\":\"Rect\"},{\"attributes\":{\"callback\":null,\"column_names\":[\"line_color\",\"line_alpha\",\"color\",\"fill_alpha\",\"height\",\"width\",\"y\",\"x\",\"label\"],\"data\":{\"chart_index\":[\"(30.000000, 40.000000]\"],\"color\":[\"#f22c40\"],\"fill_alpha\":[0.8],\"height\":[1.0],\"label\":[\"(30.000000, 40.000000]\"],\"line_alpha\":[1.0],\"line_color\":[\"black\"],\"width\":[10],\"x\":[\"35.0\"],\"y\":[0.5]}},\"id\":\"237a24b7-0ab4-4345-9f3c-45b79735f25c\",\"type\":\"ColumnDataSource\"},{\"attributes\":{},\"id\":\"19c7f629-5ebf-4fce-9c41-68c3d72c7aae\",\"type\":\"LinearScale\"},{\"attributes\":{\"data_source\":{\"id\":\"bcb2e400-ae8a-43f4-bc33-8624098fae09\",\"type\":\"ColumnDataSource\"},\"glyph\":{\"id\":\"606e48a3-b969-46c7-99a4-4b15377e154a\",\"type\":\"Rect\"},\"hover_glyph\":null,\"muted_glyph\":null},\"id\":\"538b9fa4-5500-40b2-980a-5babfb002552\",\"type\":\"GlyphRenderer\"},{\"attributes\":{\"callback\":null,\"column_names\":[\"line_color\",\"line_alpha\",\"color\",\"fill_alpha\",\"height\",\"width\",\"y\",\"x\",\"label\"],\"data\":{\"chart_index\":[\"(80.000000, 90.000000]\"],\"color\":[\"#f22c40\"],\"fill_alpha\":[0.8],\"height\":[0.0],\"label\":[\"(80.000000, 90.000000]\"],\"line_alpha\":[1.0],\"line_color\":[\"black\"],\"width\":[10],\"x\":[\"85.0\"],\"y\":[0.0]}},\"id\":\"9bcfec5f-7be2-4e9c-b274-cea6c74d81f0\",\"type\":\"ColumnDataSource\"},{\"attributes\":{\"callback\":null,\"column_names\":[\"line_color\",\"line_alpha\",\"color\",\"fill_alpha\",\"height\",\"width\",\"y\",\"x\",\"label\"],\"data\":{\"chart_index\":[\"(90.000000, 100.000000]\"],\"color\":[\"#f22c40\"],\"fill_alpha\":[0.8],\"height\":[0.0],\"label\":[\"(90.000000, 100.000000]\"],\"line_alpha\":[1.0],\"line_color\":[\"black\"],\"width\":[10],\"x\":[\"95.0\"],\"y\":[0.0]}},\"id\":\"2d312419-114c-4b38-9f2d-21f71b154d77\",\"type\":\"ColumnDataSource\"},{\"attributes\":{\"dimension\":1,\"plot\":{\"id\":\"45afb9ec-c37b-4255-8b28-5b506ddea60f\",\"subtype\":\"Chart\",\"type\":\"Plot\"},\"ticker\":{\"id\":\"ac873110-02bc-407e-9b21-6d99cf038582\",\"type\":\"BasicTicker\"}},\"id\":\"03e7577c-6479-49de-810a-b37db491952a\",\"type\":\"Grid\"},{\"attributes\":{},\"id\":\"032928da-7818-434d-873d-f99c39875f0a\",\"type\":\"ToolEvents\"},{\"attributes\":{\"fill_alpha\":{\"field\":\"fill_alpha\"},\"fill_color\":{\"field\":\"color\"},\"height\":{\"field\":\"height\",\"units\":\"data\"},\"line_color\":{\"field\":\"line_color\"},\"width\":{\"field\":\"width\",\"units\":\"data\"},\"x\":{\"field\":\"x\"},\"y\":{\"field\":\"y\"}},\"id\":\"ab9d606b-7ca7-4539-a33d-457c2c41fe03\",\"type\":\"Rect\"},{\"attributes\":{},\"id\":\"ac873110-02bc-407e-9b21-6d99cf038582\",\"type\":\"BasicTicker\"}],\"root_ids\":[\"45afb9ec-c37b-4255-8b28-5b506ddea60f\"]},\"title\":\"Bokeh Application\",\"version\":\"0.12.6\"}};\n",
       "            var render_items = [{\"docid\":\"4e5de109-81d2-4516-b507-f9948b50f9f4\",\"elementid\":\"75c6bd1b-3333-4e1d-bfe4-0684a2ae01b2\",\"modelid\":\"45afb9ec-c37b-4255-8b28-5b506ddea60f\"}];\n",
       "            \n",
       "            Bokeh.embed.embed_items(docs_json, render_items);\n",
       "          };\n",
       "          if (document.readyState != \"loading\") fn();\n",
       "          else document.addEventListener(\"DOMContentLoaded\", fn);\n",
       "        })();\n",
       "      },\n",
       "      function(Bokeh) {\n",
       "      }\n",
       "    ];\n",
       "  \n",
       "    function run_inline_js() {\n",
       "      \n",
       "      if ((window.Bokeh !== undefined) || (force === true)) {\n",
       "        for (var i = 0; i < inline_js.length; i++) {\n",
       "          inline_js[i](window.Bokeh);\n",
       "        }if (force === true) {\n",
       "          display_loaded();\n",
       "        }} else if (Date.now() < window._bokeh_timeout) {\n",
       "        setTimeout(run_inline_js, 100);\n",
       "      } else if (!window._bokeh_failed_load) {\n",
       "        console.log(\"Bokeh: BokehJS failed to load within specified timeout.\");\n",
       "        window._bokeh_failed_load = true;\n",
       "      } else if (force !== true) {\n",
       "        var cell = $(document.getElementById(\"75c6bd1b-3333-4e1d-bfe4-0684a2ae01b2\")).parents('.cell').data().cell;\n",
       "        cell.output_area.append_execute_result(NB_LOAD_WARNING)\n",
       "      }\n",
       "  \n",
       "    }\n",
       "  \n",
       "    if (window._bokeh_is_loading === 0) {\n",
       "      console.log(\"Bokeh: BokehJS loaded, going straight to plotting\");\n",
       "      run_inline_js();\n",
       "    } else {\n",
       "      load_libs(js_urls, function() {\n",
       "        console.log(\"Bokeh: BokehJS plotting callback run at\", now());\n",
       "        run_inline_js();\n",
       "      });\n",
       "    }\n",
       "  }(this));\n",
       "</script>"
      ]
     },
     "metadata": {},
     "output_type": "display_data"
    }
   ],
   "source": [
    "histp = Histogram(seguidores_activos['MartinLlaryora'],\n",
    "                  bins=bins, xlabel=\"#tweets\", ylabel='# usuarios')\n",
    "show(histp)"
   ]
  },
  {
   "cell_type": "code",
   "execution_count": 50,
   "metadata": {
    "collapsed": false
   },
   "outputs": [
    {
     "data": {
      "text/html": [
       "\n",
       "    <div class=\"bk-root\">\n",
       "        <a href=\"http://bokeh.pydata.org\" target=\"_blank\" class=\"bk-logo bk-logo-small bk-logo-notebook\"></a>\n",
       "        <span id=\"ad7ef041-d6b5-4d19-a2be-d1d2a06f28e9\">Loading BokehJS ...</span>\n",
       "    </div>"
      ]
     },
     "metadata": {},
     "output_type": "display_data"
    },
    {
     "data": {
      "application/javascript": [
       "\n",
       "(function(global) {\n",
       "  function now() {\n",
       "    return new Date();\n",
       "  }\n",
       "\n",
       "  var force = true;\n",
       "\n",
       "  if (typeof (window._bokeh_onload_callbacks) === \"undefined\" || force === true) {\n",
       "    window._bokeh_onload_callbacks = [];\n",
       "    window._bokeh_is_loading = undefined;\n",
       "  }\n",
       "\n",
       "\n",
       "  \n",
       "  if (typeof (window._bokeh_timeout) === \"undefined\" || force === true) {\n",
       "    window._bokeh_timeout = Date.now() + 5000;\n",
       "    window._bokeh_failed_load = false;\n",
       "  }\n",
       "\n",
       "  var NB_LOAD_WARNING = {'data': {'text/html':\n",
       "     \"<div style='background-color: #fdd'>\\n\"+\n",
       "     \"<p>\\n\"+\n",
       "     \"BokehJS does not appear to have successfully loaded. If loading BokehJS from CDN, this \\n\"+\n",
       "     \"may be due to a slow or bad network connection. Possible fixes:\\n\"+\n",
       "     \"</p>\\n\"+\n",
       "     \"<ul>\\n\"+\n",
       "     \"<li>re-rerun `output_notebook()` to attempt to load from CDN again, or</li>\\n\"+\n",
       "     \"<li>use INLINE resources instead, as so:</li>\\n\"+\n",
       "     \"</ul>\\n\"+\n",
       "     \"<code>\\n\"+\n",
       "     \"from bokeh.resources import INLINE\\n\"+\n",
       "     \"output_notebook(resources=INLINE)\\n\"+\n",
       "     \"</code>\\n\"+\n",
       "     \"</div>\"}};\n",
       "\n",
       "  function display_loaded() {\n",
       "    if (window.Bokeh !== undefined) {\n",
       "      var el = document.getElementById(\"ad7ef041-d6b5-4d19-a2be-d1d2a06f28e9\");\n",
       "      el.textContent = \"BokehJS \" + Bokeh.version + \" successfully loaded.\";\n",
       "    } else if (Date.now() < window._bokeh_timeout) {\n",
       "      setTimeout(display_loaded, 100)\n",
       "    }\n",
       "  }\n",
       "\n",
       "  function run_callbacks() {\n",
       "    try {\n",
       "      window._bokeh_onload_callbacks.forEach(function(callback) { callback() });\n",
       "    }\n",
       "    finally {\n",
       "      delete window._bokeh_onload_callbacks\n",
       "    }\n",
       "    console.info(\"Bokeh: all callbacks have finished\");\n",
       "  }\n",
       "\n",
       "  function load_libs(js_urls, callback) {\n",
       "    window._bokeh_onload_callbacks.push(callback);\n",
       "    if (window._bokeh_is_loading > 0) {\n",
       "      console.log(\"Bokeh: BokehJS is being loaded, scheduling callback at\", now());\n",
       "      return null;\n",
       "    }\n",
       "    if (js_urls == null || js_urls.length === 0) {\n",
       "      run_callbacks();\n",
       "      return null;\n",
       "    }\n",
       "    console.log(\"Bokeh: BokehJS not loaded, scheduling load and callback at\", now());\n",
       "    window._bokeh_is_loading = js_urls.length;\n",
       "    for (var i = 0; i < js_urls.length; i++) {\n",
       "      var url = js_urls[i];\n",
       "      var s = document.createElement('script');\n",
       "      s.src = url;\n",
       "      s.async = false;\n",
       "      s.onreadystatechange = s.onload = function() {\n",
       "        window._bokeh_is_loading--;\n",
       "        if (window._bokeh_is_loading === 0) {\n",
       "          console.log(\"Bokeh: all BokehJS libraries loaded\");\n",
       "          run_callbacks()\n",
       "        }\n",
       "      };\n",
       "      s.onerror = function() {\n",
       "        console.warn(\"failed to load library \" + url);\n",
       "      };\n",
       "      console.log(\"Bokeh: injecting script tag for BokehJS library: \", url);\n",
       "      document.getElementsByTagName(\"head\")[0].appendChild(s);\n",
       "    }\n",
       "  };var element = document.getElementById(\"ad7ef041-d6b5-4d19-a2be-d1d2a06f28e9\");\n",
       "  if (element == null) {\n",
       "    console.log(\"Bokeh: ERROR: autoload.js configured with elementid 'ad7ef041-d6b5-4d19-a2be-d1d2a06f28e9' but no matching script tag was found. \")\n",
       "    return false;\n",
       "  }\n",
       "\n",
       "  var js_urls = [\"https://cdn.pydata.org/bokeh/release/bokeh-0.12.6.min.js\", \"https://cdn.pydata.org/bokeh/release/bokeh-widgets-0.12.6.min.js\"];\n",
       "\n",
       "  var inline_js = [\n",
       "    function(Bokeh) {\n",
       "      Bokeh.set_log_level(\"info\");\n",
       "    },\n",
       "    \n",
       "    function(Bokeh) {\n",
       "      \n",
       "    },\n",
       "    \n",
       "    function(Bokeh) {\n",
       "      \n",
       "      document.getElementById(\"ad7ef041-d6b5-4d19-a2be-d1d2a06f28e9\").textContent = \"BokehJS is loading...\";\n",
       "    },\n",
       "    function(Bokeh) {\n",
       "      console.log(\"Bokeh: injecting CSS: https://cdn.pydata.org/bokeh/release/bokeh-0.12.6.min.css\");\n",
       "      Bokeh.embed.inject_css(\"https://cdn.pydata.org/bokeh/release/bokeh-0.12.6.min.css\");\n",
       "      console.log(\"Bokeh: injecting CSS: https://cdn.pydata.org/bokeh/release/bokeh-widgets-0.12.6.min.css\");\n",
       "      Bokeh.embed.inject_css(\"https://cdn.pydata.org/bokeh/release/bokeh-widgets-0.12.6.min.css\");\n",
       "    }\n",
       "  ];\n",
       "\n",
       "  function run_inline_js() {\n",
       "    \n",
       "    if ((window.Bokeh !== undefined) || (force === true)) {\n",
       "      for (var i = 0; i < inline_js.length; i++) {\n",
       "        inline_js[i](window.Bokeh);\n",
       "      }if (force === true) {\n",
       "        display_loaded();\n",
       "      }} else if (Date.now() < window._bokeh_timeout) {\n",
       "      setTimeout(run_inline_js, 100);\n",
       "    } else if (!window._bokeh_failed_load) {\n",
       "      console.log(\"Bokeh: BokehJS failed to load within specified timeout.\");\n",
       "      window._bokeh_failed_load = true;\n",
       "    } else if (force !== true) {\n",
       "      var cell = $(document.getElementById(\"ad7ef041-d6b5-4d19-a2be-d1d2a06f28e9\")).parents('.cell').data().cell;\n",
       "      cell.output_area.append_execute_result(NB_LOAD_WARNING)\n",
       "    }\n",
       "\n",
       "  }\n",
       "\n",
       "  if (window._bokeh_is_loading === 0) {\n",
       "    console.log(\"Bokeh: BokehJS loaded, going straight to plotting\");\n",
       "    run_inline_js();\n",
       "  } else {\n",
       "    load_libs(js_urls, function() {\n",
       "      console.log(\"Bokeh: BokehJS plotting callback run at\", now());\n",
       "      run_inline_js();\n",
       "    });\n",
       "  }\n",
       "}(this));"
      ]
     },
     "metadata": {},
     "output_type": "display_data"
    },
    {
     "data": {
      "text/html": [
       "\n",
       "\n",
       "    <div class=\"bk-root\">\n",
       "        <div class=\"bk-plotdiv\" id=\"03650839-9ba2-47a2-9fbf-37b360461da7\"></div>\n",
       "    </div>\n",
       "<script type=\"text/javascript\">\n",
       "  \n",
       "  (function(global) {\n",
       "    function now() {\n",
       "      return new Date();\n",
       "    }\n",
       "  \n",
       "    var force = false;\n",
       "  \n",
       "    if (typeof (window._bokeh_onload_callbacks) === \"undefined\" || force === true) {\n",
       "      window._bokeh_onload_callbacks = [];\n",
       "      window._bokeh_is_loading = undefined;\n",
       "    }\n",
       "  \n",
       "  \n",
       "    \n",
       "    if (typeof (window._bokeh_timeout) === \"undefined\" || force === true) {\n",
       "      window._bokeh_timeout = Date.now() + 0;\n",
       "      window._bokeh_failed_load = false;\n",
       "    }\n",
       "  \n",
       "    var NB_LOAD_WARNING = {'data': {'text/html':\n",
       "       \"<div style='background-color: #fdd'>\\n\"+\n",
       "       \"<p>\\n\"+\n",
       "       \"BokehJS does not appear to have successfully loaded. If loading BokehJS from CDN, this \\n\"+\n",
       "       \"may be due to a slow or bad network connection. Possible fixes:\\n\"+\n",
       "       \"</p>\\n\"+\n",
       "       \"<ul>\\n\"+\n",
       "       \"<li>re-rerun `output_notebook()` to attempt to load from CDN again, or</li>\\n\"+\n",
       "       \"<li>use INLINE resources instead, as so:</li>\\n\"+\n",
       "       \"</ul>\\n\"+\n",
       "       \"<code>\\n\"+\n",
       "       \"from bokeh.resources import INLINE\\n\"+\n",
       "       \"output_notebook(resources=INLINE)\\n\"+\n",
       "       \"</code>\\n\"+\n",
       "       \"</div>\"}};\n",
       "  \n",
       "    function display_loaded() {\n",
       "      if (window.Bokeh !== undefined) {\n",
       "        var el = document.getElementById(\"03650839-9ba2-47a2-9fbf-37b360461da7\");\n",
       "        el.textContent = \"BokehJS \" + Bokeh.version + \" successfully loaded.\";\n",
       "      } else if (Date.now() < window._bokeh_timeout) {\n",
       "        setTimeout(display_loaded, 100)\n",
       "      }\n",
       "    }\n",
       "  \n",
       "    function run_callbacks() {\n",
       "      try {\n",
       "        window._bokeh_onload_callbacks.forEach(function(callback) { callback() });\n",
       "      }\n",
       "      finally {\n",
       "        delete window._bokeh_onload_callbacks\n",
       "      }\n",
       "      console.info(\"Bokeh: all callbacks have finished\");\n",
       "    }\n",
       "  \n",
       "    function load_libs(js_urls, callback) {\n",
       "      window._bokeh_onload_callbacks.push(callback);\n",
       "      if (window._bokeh_is_loading > 0) {\n",
       "        console.log(\"Bokeh: BokehJS is being loaded, scheduling callback at\", now());\n",
       "        return null;\n",
       "      }\n",
       "      if (js_urls == null || js_urls.length === 0) {\n",
       "        run_callbacks();\n",
       "        return null;\n",
       "      }\n",
       "      console.log(\"Bokeh: BokehJS not loaded, scheduling load and callback at\", now());\n",
       "      window._bokeh_is_loading = js_urls.length;\n",
       "      for (var i = 0; i < js_urls.length; i++) {\n",
       "        var url = js_urls[i];\n",
       "        var s = document.createElement('script');\n",
       "        s.src = url;\n",
       "        s.async = false;\n",
       "        s.onreadystatechange = s.onload = function() {\n",
       "          window._bokeh_is_loading--;\n",
       "          if (window._bokeh_is_loading === 0) {\n",
       "            console.log(\"Bokeh: all BokehJS libraries loaded\");\n",
       "            run_callbacks()\n",
       "          }\n",
       "        };\n",
       "        s.onerror = function() {\n",
       "          console.warn(\"failed to load library \" + url);\n",
       "        };\n",
       "        console.log(\"Bokeh: injecting script tag for BokehJS library: \", url);\n",
       "        document.getElementsByTagName(\"head\")[0].appendChild(s);\n",
       "      }\n",
       "    };var element = document.getElementById(\"03650839-9ba2-47a2-9fbf-37b360461da7\");\n",
       "    if (element == null) {\n",
       "      console.log(\"Bokeh: ERROR: autoload.js configured with elementid '03650839-9ba2-47a2-9fbf-37b360461da7' but no matching script tag was found. \")\n",
       "      return false;\n",
       "    }\n",
       "  \n",
       "    var js_urls = [];\n",
       "  \n",
       "    var inline_js = [\n",
       "      function(Bokeh) {\n",
       "        (function() {\n",
       "          var fn = function() {\n",
       "            var docs_json = {\"3e49f3a4-06ec-4282-a99f-2e58a3e3bc21\":{\"roots\":{\"references\":[{\"attributes\":{\"below\":[{\"id\":\"3fc4e119-8d17-4cd2-a02f-87ede811ed4f\",\"type\":\"LinearAxis\"}],\"css_classes\":null,\"left\":[{\"id\":\"1f1d9d81-494d-445b-b9d5-100350f511a7\",\"type\":\"LinearAxis\"}],\"renderers\":[{\"id\":\"050dddc8-0f55-43b0-8be9-e46294c23c40\",\"type\":\"BoxAnnotation\"},{\"id\":\"3c9135f0-a12a-4310-892b-b7b994898a9e\",\"type\":\"GlyphRenderer\"},{\"id\":\"2526961a-83ae-4dd4-a3d3-88f0cf6de4e7\",\"type\":\"GlyphRenderer\"},{\"id\":\"95a2bffe-5a31-4c95-82bd-8a744efa84d4\",\"type\":\"GlyphRenderer\"},{\"id\":\"42d92898-ef2b-4b07-bcd6-61baabd771d9\",\"type\":\"GlyphRenderer\"},{\"id\":\"1a9af681-a6ba-4dd6-aefc-f86216dff755\",\"type\":\"GlyphRenderer\"},{\"id\":\"225f18ad-f9cf-4072-905d-1558ed9a2622\",\"type\":\"GlyphRenderer\"},{\"id\":\"f6aaa432-12a6-4070-b877-667fa0a011aa\",\"type\":\"GlyphRenderer\"},{\"id\":\"9ae4f406-b015-403d-888e-a7229891710c\",\"type\":\"GlyphRenderer\"},{\"id\":\"e88d20f1-d273-4ac8-9710-a35ca568b7f0\",\"type\":\"GlyphRenderer\"},{\"id\":\"d3990f84-59d8-447d-b623-d5c1ad294f40\",\"type\":\"GlyphRenderer\"},{\"id\":\"66b57b33-c764-44bf-9334-5a240b185ca3\",\"type\":\"Legend\"},{\"id\":\"3fc4e119-8d17-4cd2-a02f-87ede811ed4f\",\"type\":\"LinearAxis\"},{\"id\":\"1f1d9d81-494d-445b-b9d5-100350f511a7\",\"type\":\"LinearAxis\"},{\"id\":\"0572c522-9abf-4934-90e5-8b1f1f6936bd\",\"type\":\"Grid\"}],\"title\":{\"id\":\"bbdf9867-7da9-4972-b065-c74e2f626479\",\"type\":\"Title\"},\"tool_events\":{\"id\":\"0a49e26d-b1cb-4ec5-be6d-5d4e128a281a\",\"type\":\"ToolEvents\"},\"toolbar\":{\"id\":\"b7f43ebd-1f16-4a1e-b51d-60dc95204c17\",\"type\":\"Toolbar\"},\"x_range\":{\"id\":\"c4a2ef11-79d4-4179-8e22-7522f05e73bc\",\"type\":\"Range1d\"},\"x_scale\":{\"id\":\"c321b121-4159-4608-a9bd-ed57b32528d4\",\"type\":\"LinearScale\"},\"y_range\":{\"id\":\"7f7ff185-6fc0-4a5d-9a1b-bb89fa86c689\",\"type\":\"Range1d\"},\"y_scale\":{\"id\":\"9fe634dd-9ff9-452e-b677-7e14fb6c1425\",\"type\":\"LinearScale\"}},\"id\":\"7170f545-abc3-4bab-ae7e-f2490e8030c6\",\"subtype\":\"Chart\",\"type\":\"Plot\"},{\"attributes\":{\"data_source\":{\"id\":\"4f7796fa-fe3e-45ca-a118-ee90f907af37\",\"type\":\"ColumnDataSource\"},\"glyph\":{\"id\":\"1d607926-498a-492f-9755-d2f411fe6ee5\",\"type\":\"Rect\"},\"hover_glyph\":null,\"muted_glyph\":null},\"id\":\"42d92898-ef2b-4b07-bcd6-61baabd771d9\",\"type\":\"GlyphRenderer\"},{\"attributes\":{\"overlay\":{\"id\":\"050dddc8-0f55-43b0-8be9-e46294c23c40\",\"type\":\"BoxAnnotation\"},\"plot\":{\"id\":\"7170f545-abc3-4bab-ae7e-f2490e8030c6\",\"subtype\":\"Chart\",\"type\":\"Plot\"}},\"id\":\"58d05afb-78ae-4fd5-b202-b13f1f37508f\",\"type\":\"BoxZoomTool\"},{\"attributes\":{\"fill_alpha\":{\"field\":\"fill_alpha\"},\"fill_color\":{\"field\":\"color\"},\"height\":{\"field\":\"height\",\"units\":\"data\"},\"line_color\":{\"field\":\"line_color\"},\"width\":{\"field\":\"width\",\"units\":\"data\"},\"x\":{\"field\":\"x\"},\"y\":{\"field\":\"y\"}},\"id\":\"beee6f32-b08b-4eee-bdd6-081aeac2523c\",\"type\":\"Rect\"},{\"attributes\":{\"data_source\":{\"id\":\"76852a2d-2e44-4608-b3a2-6b968652f43d\",\"type\":\"ColumnDataSource\"},\"glyph\":{\"id\":\"2a750ff3-bb26-45ba-9c5b-1e6ff55c0131\",\"type\":\"Rect\"},\"hover_glyph\":null,\"muted_glyph\":null},\"id\":\"1a9af681-a6ba-4dd6-aefc-f86216dff755\",\"type\":\"GlyphRenderer\"},{\"attributes\":{\"fill_alpha\":{\"field\":\"fill_alpha\"},\"fill_color\":{\"field\":\"color\"},\"height\":{\"field\":\"height\",\"units\":\"data\"},\"line_color\":{\"field\":\"line_color\"},\"width\":{\"field\":\"width\",\"units\":\"data\"},\"x\":{\"field\":\"x\"},\"y\":{\"field\":\"y\"}},\"id\":\"8d342021-91e7-4cd8-bc61-82a7855a3a28\",\"type\":\"Rect\"},{\"attributes\":{\"data_source\":{\"id\":\"5e57feb9-9a14-4700-8976-87297530839e\",\"type\":\"ColumnDataSource\"},\"glyph\":{\"id\":\"a867f467-2073-40ad-8222-3081e4469def\",\"type\":\"Rect\"},\"hover_glyph\":null,\"muted_glyph\":null},\"id\":\"9ae4f406-b015-403d-888e-a7229891710c\",\"type\":\"GlyphRenderer\"},{\"attributes\":{\"fill_alpha\":{\"field\":\"fill_alpha\"},\"fill_color\":{\"field\":\"color\"},\"height\":{\"field\":\"height\",\"units\":\"data\"},\"line_color\":{\"field\":\"line_color\"},\"width\":{\"field\":\"width\",\"units\":\"data\"},\"x\":{\"field\":\"x\"},\"y\":{\"field\":\"y\"}},\"id\":\"d47bd52f-87b2-4933-98da-dabf61ebd498\",\"type\":\"Rect\"},{\"attributes\":{\"data_source\":{\"id\":\"2b217072-cf5d-4264-97fe-fd3248392169\",\"type\":\"ColumnDataSource\"},\"glyph\":{\"id\":\"28cd64d8-b9ab-4e5b-b646-fba1aabf10b1\",\"type\":\"Rect\"},\"hover_glyph\":null,\"muted_glyph\":null},\"id\":\"3c9135f0-a12a-4310-892b-b7b994898a9e\",\"type\":\"GlyphRenderer\"},{\"attributes\":{\"fill_alpha\":{\"field\":\"fill_alpha\"},\"fill_color\":{\"field\":\"color\"},\"height\":{\"field\":\"height\",\"units\":\"data\"},\"line_color\":{\"field\":\"line_color\"},\"width\":{\"field\":\"width\",\"units\":\"data\"},\"x\":{\"field\":\"x\"},\"y\":{\"field\":\"y\"}},\"id\":\"a867f467-2073-40ad-8222-3081e4469def\",\"type\":\"Rect\"},{\"attributes\":{\"data_source\":{\"id\":\"d4ac78cc-34ed-4cbf-9724-d132dfcaba9f\",\"type\":\"ColumnDataSource\"},\"glyph\":{\"id\":\"c4d52114-f5fe-4952-bf01-9e6555ef4887\",\"type\":\"Rect\"},\"hover_glyph\":null,\"muted_glyph\":null},\"id\":\"95a2bffe-5a31-4c95-82bd-8a744efa84d4\",\"type\":\"GlyphRenderer\"},{\"attributes\":{},\"id\":\"6c546015-e09f-41ba-9ea7-0736915b7470\",\"type\":\"BasicTickFormatter\"},{\"attributes\":{\"data_source\":{\"id\":\"e928b143-4175-4cf4-8b75-e94a23e2c0e1\",\"type\":\"ColumnDataSource\"},\"glyph\":{\"id\":\"d47bd52f-87b2-4933-98da-dabf61ebd498\",\"type\":\"Rect\"},\"hover_glyph\":null,\"muted_glyph\":null},\"id\":\"2526961a-83ae-4dd4-a3d3-88f0cf6de4e7\",\"type\":\"GlyphRenderer\"},{\"attributes\":{\"callback\":null,\"column_names\":[\"line_color\",\"line_alpha\",\"color\",\"fill_alpha\",\"height\",\"width\",\"y\",\"x\",\"label\"],\"data\":{\"chart_index\":[\"(10.000000, 20.000000]\"],\"color\":[\"#f22c40\"],\"fill_alpha\":[0.8],\"height\":[10.0],\"label\":[\"(10.000000, 20.000000]\"],\"line_alpha\":[1.0],\"line_color\":[\"black\"],\"width\":[10],\"x\":[\"15.0\"],\"y\":[5.0]}},\"id\":\"e928b143-4175-4cf4-8b75-e94a23e2c0e1\",\"type\":\"ColumnDataSource\"},{\"attributes\":{\"callback\":null,\"end\":49.50000000000001},\"id\":\"7f7ff185-6fc0-4a5d-9a1b-bb89fa86c689\",\"type\":\"Range1d\"},{\"attributes\":{},\"id\":\"7d7cd50e-1d01-4ffc-aedc-940c047898c9\",\"type\":\"BasicTickFormatter\"},{\"attributes\":{\"callback\":null,\"column_names\":[\"line_color\",\"line_alpha\",\"color\",\"fill_alpha\",\"height\",\"width\",\"y\",\"x\",\"label\"],\"data\":{\"chart_index\":[\"(40.000000, 50.000000]\"],\"color\":[\"#f22c40\"],\"fill_alpha\":[0.8],\"height\":[0.0],\"label\":[\"(40.000000, 50.000000]\"],\"line_alpha\":[1.0],\"line_color\":[\"black\"],\"width\":[10],\"x\":[\"45.0\"],\"y\":[0.0]}},\"id\":\"76852a2d-2e44-4608-b3a2-6b968652f43d\",\"type\":\"ColumnDataSource\"},{\"attributes\":{\"data_source\":{\"id\":\"c63892d7-64a3-4b34-a503-fb3c9630de5d\",\"type\":\"ColumnDataSource\"},\"glyph\":{\"id\":\"beee6f32-b08b-4eee-bdd6-081aeac2523c\",\"type\":\"Rect\"},\"hover_glyph\":null,\"muted_glyph\":null},\"id\":\"d3990f84-59d8-447d-b623-d5c1ad294f40\",\"type\":\"GlyphRenderer\"},{\"attributes\":{\"bottom_units\":\"screen\",\"fill_alpha\":{\"value\":0.5},\"fill_color\":{\"value\":\"lightgrey\"},\"left_units\":\"screen\",\"level\":\"overlay\",\"line_alpha\":{\"value\":1.0},\"line_color\":{\"value\":\"black\"},\"line_dash\":[4,4],\"line_width\":{\"value\":2},\"plot\":null,\"render_mode\":\"css\",\"right_units\":\"screen\",\"top_units\":\"screen\"},\"id\":\"050dddc8-0f55-43b0-8be9-e46294c23c40\",\"type\":\"BoxAnnotation\"},{\"attributes\":{\"data_source\":{\"id\":\"83f1c7be-d376-4f98-ba7f-e2298d8be026\",\"type\":\"ColumnDataSource\"},\"glyph\":{\"id\":\"3cd29545-77a2-45d5-b376-b8b02a92bcb7\",\"type\":\"Rect\"},\"hover_glyph\":null,\"muted_glyph\":null},\"id\":\"225f18ad-f9cf-4072-905d-1558ed9a2622\",\"type\":\"GlyphRenderer\"},{\"attributes\":{\"callback\":null,\"column_names\":[\"line_color\",\"line_alpha\",\"color\",\"fill_alpha\",\"height\",\"width\",\"y\",\"x\",\"label\"],\"data\":{\"chart_index\":[\"(80.000000, 90.000000]\"],\"color\":[\"#f22c40\"],\"fill_alpha\":[0.8],\"height\":[0.0],\"label\":[\"(80.000000, 90.000000]\"],\"line_alpha\":[1.0],\"line_color\":[\"black\"],\"width\":[10],\"x\":[\"85.0\"],\"y\":[0.0]}},\"id\":\"95ffc6ee-fac4-4691-b264-f5af3dcdbf19\",\"type\":\"ColumnDataSource\"},{\"attributes\":{},\"id\":\"ed2b8575-c03c-411e-bd5a-c68d9d614e65\",\"type\":\"BasicTicker\"},{\"attributes\":{\"fill_alpha\":{\"field\":\"fill_alpha\"},\"fill_color\":{\"field\":\"color\"},\"height\":{\"field\":\"height\",\"units\":\"data\"},\"line_color\":{\"field\":\"line_color\"},\"width\":{\"field\":\"width\",\"units\":\"data\"},\"x\":{\"field\":\"x\"},\"y\":{\"field\":\"y\"}},\"id\":\"1d607926-498a-492f-9755-d2f411fe6ee5\",\"type\":\"Rect\"},{\"attributes\":{\"fill_alpha\":{\"field\":\"fill_alpha\"},\"fill_color\":{\"field\":\"color\"},\"height\":{\"field\":\"height\",\"units\":\"data\"},\"line_color\":{\"field\":\"line_color\"},\"width\":{\"field\":\"width\",\"units\":\"data\"},\"x\":{\"field\":\"x\"},\"y\":{\"field\":\"y\"}},\"id\":\"3cd29545-77a2-45d5-b376-b8b02a92bcb7\",\"type\":\"Rect\"},{\"attributes\":{},\"id\":\"9fe634dd-9ff9-452e-b677-7e14fb6c1425\",\"type\":\"LinearScale\"},{\"attributes\":{},\"id\":\"0a49e26d-b1cb-4ec5-be6d-5d4e128a281a\",\"type\":\"ToolEvents\"},{\"attributes\":{\"callback\":null,\"column_names\":[\"line_color\",\"line_alpha\",\"color\",\"fill_alpha\",\"height\",\"width\",\"y\",\"x\",\"label\"],\"data\":{\"chart_index\":[\"(50.000000, 60.000000]\"],\"color\":[\"#f22c40\"],\"fill_alpha\":[0.8],\"height\":[1.0],\"label\":[\"(50.000000, 60.000000]\"],\"line_alpha\":[1.0],\"line_color\":[\"black\"],\"width\":[10],\"x\":[\"55.0\"],\"y\":[0.5]}},\"id\":\"83f1c7be-d376-4f98-ba7f-e2298d8be026\",\"type\":\"ColumnDataSource\"},{\"attributes\":{\"callback\":null,\"column_names\":[\"line_color\",\"line_alpha\",\"color\",\"fill_alpha\",\"height\",\"width\",\"y\",\"x\",\"label\"],\"data\":{\"chart_index\":[\"(70.000000, 80.000000]\"],\"color\":[\"#f22c40\"],\"fill_alpha\":[0.8],\"height\":[1.0],\"label\":[\"(70.000000, 80.000000]\"],\"line_alpha\":[1.0],\"line_color\":[\"black\"],\"width\":[10],\"x\":[\"75.0\"],\"y\":[0.5]}},\"id\":\"5e57feb9-9a14-4700-8976-87297530839e\",\"type\":\"ColumnDataSource\"},{\"attributes\":{\"dimension\":1,\"plot\":{\"id\":\"7170f545-abc3-4bab-ae7e-f2490e8030c6\",\"subtype\":\"Chart\",\"type\":\"Plot\"},\"ticker\":{\"id\":\"66d25174-c38d-4738-b703-9f0c572a6e49\",\"type\":\"BasicTicker\"}},\"id\":\"0572c522-9abf-4934-90e5-8b1f1f6936bd\",\"type\":\"Grid\"},{\"attributes\":{},\"id\":\"66d25174-c38d-4738-b703-9f0c572a6e49\",\"type\":\"BasicTicker\"},{\"attributes\":{\"fill_alpha\":{\"field\":\"fill_alpha\"},\"fill_color\":{\"field\":\"color\"},\"height\":{\"field\":\"height\",\"units\":\"data\"},\"line_color\":{\"field\":\"line_color\"},\"width\":{\"field\":\"width\",\"units\":\"data\"},\"x\":{\"field\":\"x\"},\"y\":{\"field\":\"y\"}},\"id\":\"121373e5-9bc6-4404-a19d-3bad41907599\",\"type\":\"Rect\"},{\"attributes\":{\"plot\":{\"id\":\"7170f545-abc3-4bab-ae7e-f2490e8030c6\",\"subtype\":\"Chart\",\"type\":\"Plot\"}},\"id\":\"160c2dbf-dac2-4e11-a3a0-7b28a90b42b8\",\"type\":\"PanTool\"},{\"attributes\":{\"callback\":null,\"column_names\":[\"line_color\",\"line_alpha\",\"color\",\"fill_alpha\",\"height\",\"width\",\"y\",\"x\",\"label\"],\"data\":{\"chart_index\":[\"(90.000000, 100.000000]\"],\"color\":[\"#f22c40\"],\"fill_alpha\":[0.8],\"height\":[1.0],\"label\":[\"(90.000000, 100.000000]\"],\"line_alpha\":[1.0],\"line_color\":[\"black\"],\"width\":[10],\"x\":[\"95.0\"],\"y\":[0.5]}},\"id\":\"c63892d7-64a3-4b34-a503-fb3c9630de5d\",\"type\":\"ColumnDataSource\"},{\"attributes\":{\"callback\":null,\"column_names\":[\"line_color\",\"line_alpha\",\"color\",\"fill_alpha\",\"height\",\"width\",\"y\",\"x\",\"label\"],\"data\":{\"chart_index\":[\"(60.000000, 70.000000]\"],\"color\":[\"#f22c40\"],\"fill_alpha\":[0.8],\"height\":[2.0],\"label\":[\"(60.000000, 70.000000]\"],\"line_alpha\":[1.0],\"line_color\":[\"black\"],\"width\":[10],\"x\":[\"65.0\"],\"y\":[1.0]}},\"id\":\"0d63b909-73a5-40db-a546-a04825db1a8e\",\"type\":\"ColumnDataSource\"},{\"attributes\":{\"axis_label\":\"# usuarios\",\"formatter\":{\"id\":\"7d7cd50e-1d01-4ffc-aedc-940c047898c9\",\"type\":\"BasicTickFormatter\"},\"plot\":{\"id\":\"7170f545-abc3-4bab-ae7e-f2490e8030c6\",\"subtype\":\"Chart\",\"type\":\"Plot\"},\"ticker\":{\"id\":\"66d25174-c38d-4738-b703-9f0c572a6e49\",\"type\":\"BasicTicker\"}},\"id\":\"1f1d9d81-494d-445b-b9d5-100350f511a7\",\"type\":\"LinearAxis\"},{\"attributes\":{\"plot\":{\"id\":\"7170f545-abc3-4bab-ae7e-f2490e8030c6\",\"subtype\":\"Chart\",\"type\":\"Plot\"}},\"id\":\"727ad7c4-a99f-4809-9d2b-d0b8eeab4ebd\",\"type\":\"WheelZoomTool\"},{\"attributes\":{\"data_source\":{\"id\":\"95ffc6ee-fac4-4691-b264-f5af3dcdbf19\",\"type\":\"ColumnDataSource\"},\"glyph\":{\"id\":\"121373e5-9bc6-4404-a19d-3bad41907599\",\"type\":\"Rect\"},\"hover_glyph\":null,\"muted_glyph\":null},\"id\":\"e88d20f1-d273-4ac8-9710-a35ca568b7f0\",\"type\":\"GlyphRenderer\"},{\"attributes\":{\"callback\":null,\"column_names\":[\"line_color\",\"line_alpha\",\"color\",\"fill_alpha\",\"height\",\"width\",\"y\",\"x\",\"label\"],\"data\":{\"chart_index\":[\"(20.000000, 30.000000]\"],\"color\":[\"#f22c40\"],\"fill_alpha\":[0.8],\"height\":[5.0],\"label\":[\"(20.000000, 30.000000]\"],\"line_alpha\":[1.0],\"line_color\":[\"black\"],\"width\":[10],\"x\":[\"25.0\"],\"y\":[2.5]}},\"id\":\"d4ac78cc-34ed-4cbf-9724-d132dfcaba9f\",\"type\":\"ColumnDataSource\"},{\"attributes\":{\"callback\":null,\"column_names\":[\"line_color\",\"line_alpha\",\"color\",\"fill_alpha\",\"height\",\"width\",\"y\",\"x\",\"label\"],\"data\":{\"chart_index\":[\"[0.000000, 10.000000]\"],\"color\":[\"#f22c40\"],\"fill_alpha\":[0.8],\"height\":[45.0],\"label\":[\"[0.000000, 10.000000]\"],\"line_alpha\":[1.0],\"line_color\":[\"black\"],\"width\":[10],\"x\":[\"5.0\"],\"y\":[22.5]}},\"id\":\"2b217072-cf5d-4264-97fe-fd3248392169\",\"type\":\"ColumnDataSource\"},{\"attributes\":{\"plot\":{\"id\":\"7170f545-abc3-4bab-ae7e-f2490e8030c6\",\"subtype\":\"Chart\",\"type\":\"Plot\"}},\"id\":\"200fbc4a-82db-4a24-9044-7663fbfb2834\",\"type\":\"ResetTool\"},{\"attributes\":{\"location\":\"top_left\",\"plot\":{\"id\":\"7170f545-abc3-4bab-ae7e-f2490e8030c6\",\"subtype\":\"Chart\",\"type\":\"Plot\"}},\"id\":\"66b57b33-c764-44bf-9334-5a240b185ca3\",\"type\":\"Legend\"},{\"attributes\":{},\"id\":\"c321b121-4159-4608-a9bd-ed57b32528d4\",\"type\":\"LinearScale\"},{\"attributes\":{\"axis_label\":\"#tweets\",\"formatter\":{\"id\":\"6c546015-e09f-41ba-9ea7-0736915b7470\",\"type\":\"BasicTickFormatter\"},\"plot\":{\"id\":\"7170f545-abc3-4bab-ae7e-f2490e8030c6\",\"subtype\":\"Chart\",\"type\":\"Plot\"},\"ticker\":{\"id\":\"ed2b8575-c03c-411e-bd5a-c68d9d614e65\",\"type\":\"BasicTicker\"}},\"id\":\"3fc4e119-8d17-4cd2-a02f-87ede811ed4f\",\"type\":\"LinearAxis\"},{\"attributes\":{\"plot\":{\"id\":\"7170f545-abc3-4bab-ae7e-f2490e8030c6\",\"subtype\":\"Chart\",\"type\":\"Plot\"}},\"id\":\"209114ee-0803-4cd0-b2d8-ad4691d2a5e1\",\"type\":\"HelpTool\"},{\"attributes\":{\"fill_alpha\":{\"field\":\"fill_alpha\"},\"fill_color\":{\"field\":\"color\"},\"height\":{\"field\":\"height\",\"units\":\"data\"},\"line_color\":{\"field\":\"line_color\"},\"width\":{\"field\":\"width\",\"units\":\"data\"},\"x\":{\"field\":\"x\"},\"y\":{\"field\":\"y\"}},\"id\":\"2a750ff3-bb26-45ba-9c5b-1e6ff55c0131\",\"type\":\"Rect\"},{\"attributes\":{\"data_source\":{\"id\":\"0d63b909-73a5-40db-a546-a04825db1a8e\",\"type\":\"ColumnDataSource\"},\"glyph\":{\"id\":\"8d342021-91e7-4cd8-bc61-82a7855a3a28\",\"type\":\"Rect\"},\"hover_glyph\":null,\"muted_glyph\":null},\"id\":\"f6aaa432-12a6-4070-b877-667fa0a011aa\",\"type\":\"GlyphRenderer\"},{\"attributes\":{\"callback\":null,\"end\":102.5,\"start\":-2.5},\"id\":\"c4a2ef11-79d4-4179-8e22-7522f05e73bc\",\"type\":\"Range1d\"},{\"attributes\":{\"callback\":null,\"column_names\":[\"line_color\",\"line_alpha\",\"color\",\"fill_alpha\",\"height\",\"width\",\"y\",\"x\",\"label\"],\"data\":{\"chart_index\":[\"(30.000000, 40.000000]\"],\"color\":[\"#f22c40\"],\"fill_alpha\":[0.8],\"height\":[2.0],\"label\":[\"(30.000000, 40.000000]\"],\"line_alpha\":[1.0],\"line_color\":[\"black\"],\"width\":[10],\"x\":[\"35.0\"],\"y\":[1.0]}},\"id\":\"4f7796fa-fe3e-45ca-a118-ee90f907af37\",\"type\":\"ColumnDataSource\"},{\"attributes\":{\"active_drag\":\"auto\",\"active_inspect\":\"auto\",\"active_scroll\":\"auto\",\"active_tap\":\"auto\",\"tools\":[{\"id\":\"160c2dbf-dac2-4e11-a3a0-7b28a90b42b8\",\"type\":\"PanTool\"},{\"id\":\"727ad7c4-a99f-4809-9d2b-d0b8eeab4ebd\",\"type\":\"WheelZoomTool\"},{\"id\":\"58d05afb-78ae-4fd5-b202-b13f1f37508f\",\"type\":\"BoxZoomTool\"},{\"id\":\"b7d2c5e6-917e-417e-8f43-95303593560c\",\"type\":\"SaveTool\"},{\"id\":\"200fbc4a-82db-4a24-9044-7663fbfb2834\",\"type\":\"ResetTool\"},{\"id\":\"209114ee-0803-4cd0-b2d8-ad4691d2a5e1\",\"type\":\"HelpTool\"}]},\"id\":\"b7f43ebd-1f16-4a1e-b51d-60dc95204c17\",\"type\":\"Toolbar\"},{\"attributes\":{\"fill_alpha\":{\"field\":\"fill_alpha\"},\"fill_color\":{\"field\":\"color\"},\"height\":{\"field\":\"height\",\"units\":\"data\"},\"line_color\":{\"field\":\"line_color\"},\"width\":{\"field\":\"width\",\"units\":\"data\"},\"x\":{\"field\":\"x\"},\"y\":{\"field\":\"y\"}},\"id\":\"c4d52114-f5fe-4952-bf01-9e6555ef4887\",\"type\":\"Rect\"},{\"attributes\":{\"fill_alpha\":{\"field\":\"fill_alpha\"},\"fill_color\":{\"field\":\"color\"},\"height\":{\"field\":\"height\",\"units\":\"data\"},\"line_color\":{\"field\":\"line_color\"},\"width\":{\"field\":\"width\",\"units\":\"data\"},\"x\":{\"field\":\"x\"},\"y\":{\"field\":\"y\"}},\"id\":\"28cd64d8-b9ab-4e5b-b646-fba1aabf10b1\",\"type\":\"Rect\"},{\"attributes\":{\"plot\":{\"id\":\"7170f545-abc3-4bab-ae7e-f2490e8030c6\",\"subtype\":\"Chart\",\"type\":\"Plot\"}},\"id\":\"b7d2c5e6-917e-417e-8f43-95303593560c\",\"type\":\"SaveTool\"},{\"attributes\":{\"plot\":null,\"text\":null},\"id\":\"bbdf9867-7da9-4972-b065-c74e2f626479\",\"type\":\"Title\"}],\"root_ids\":[\"7170f545-abc3-4bab-ae7e-f2490e8030c6\"]},\"title\":\"Bokeh Application\",\"version\":\"0.12.6\"}};\n",
       "            var render_items = [{\"docid\":\"3e49f3a4-06ec-4282-a99f-2e58a3e3bc21\",\"elementid\":\"03650839-9ba2-47a2-9fbf-37b360461da7\",\"modelid\":\"7170f545-abc3-4bab-ae7e-f2490e8030c6\"}];\n",
       "            \n",
       "            Bokeh.embed.embed_items(docs_json, render_items);\n",
       "          };\n",
       "          if (document.readyState != \"loading\") fn();\n",
       "          else document.addEventListener(\"DOMContentLoaded\", fn);\n",
       "        })();\n",
       "      },\n",
       "      function(Bokeh) {\n",
       "      }\n",
       "    ];\n",
       "  \n",
       "    function run_inline_js() {\n",
       "      \n",
       "      if ((window.Bokeh !== undefined) || (force === true)) {\n",
       "        for (var i = 0; i < inline_js.length; i++) {\n",
       "          inline_js[i](window.Bokeh);\n",
       "        }if (force === true) {\n",
       "          display_loaded();\n",
       "        }} else if (Date.now() < window._bokeh_timeout) {\n",
       "        setTimeout(run_inline_js, 100);\n",
       "      } else if (!window._bokeh_failed_load) {\n",
       "        console.log(\"Bokeh: BokehJS failed to load within specified timeout.\");\n",
       "        window._bokeh_failed_load = true;\n",
       "      } else if (force !== true) {\n",
       "        var cell = $(document.getElementById(\"03650839-9ba2-47a2-9fbf-37b360461da7\")).parents('.cell').data().cell;\n",
       "        cell.output_area.append_execute_result(NB_LOAD_WARNING)\n",
       "      }\n",
       "  \n",
       "    }\n",
       "  \n",
       "    if (window._bokeh_is_loading === 0) {\n",
       "      console.log(\"Bokeh: BokehJS loaded, going straight to plotting\");\n",
       "      run_inline_js();\n",
       "    } else {\n",
       "      load_libs(js_urls, function() {\n",
       "        console.log(\"Bokeh: BokehJS plotting callback run at\", now());\n",
       "        run_inline_js();\n",
       "      });\n",
       "    }\n",
       "  }(this));\n",
       "</script>"
      ]
     },
     "metadata": {},
     "output_type": "display_data"
    }
   ],
   "source": [
    "bins = range(0,101,10)\n",
    "histp = Histogram(seguidores_activos['HectorBaldassi'],\n",
    "                  bins=bins, xlabel=\"#tweets\", ylabel='# usuarios')\n",
    "reset_output()\n",
    "output_notebook()\n",
    "show(histp)"
   ]
  }
 ],
 "metadata": {
  "kernelspec": {
   "display_name": "Python 2",
   "language": "python",
   "name": "python2"
  },
  "language_info": {
   "codemirror_mode": {
    "name": "ipython",
    "version": 2
   },
   "file_extension": ".py",
   "mimetype": "text/x-python",
   "name": "python",
   "nbconvert_exporter": "python",
   "pygments_lexer": "ipython2",
   "version": "2.7.11+"
  }
 },
 "nbformat": 4,
 "nbformat_minor": 0
}
