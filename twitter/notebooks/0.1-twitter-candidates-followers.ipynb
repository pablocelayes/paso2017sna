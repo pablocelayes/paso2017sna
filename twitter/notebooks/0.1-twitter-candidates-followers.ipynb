{
 "cells": [
  {
   "cell_type": "code",
   "execution_count": 1,
   "metadata": {
    "collapsed": false
   },
   "outputs": [
    {
     "name": "stdout",
     "output_type": "stream",
     "text": [
      "Switching to API Credentials #15\n"
     ]
    }
   ],
   "source": [
    "import networkx as nx\n",
    "from twitter_api import API_HANDLER as TW\n",
    "from localsettings import DATA_PATH # modificar para reporte actual\n",
    "import json\n",
    "\n",
    "from os.path import join"
   ]
  },
  {
   "cell_type": "code",
   "execution_count": 2,
   "metadata": {
    "collapsed": true
   },
   "outputs": [],
   "source": [
    "cuentas = [\n",
    "    'HectorBaldassi',\n",
    "    'NestorMoccia',\n",
    "    'PabloCarroOk',\n",
    "    'MartinLlaryora',\n",
    "    'LilianaOlivero',\n",
    "    'Luciechevarria',\n",
    "    'ORTIZPELLEGRINI',\n",
    "    'AGarciaElorrio',\n",
    "    'rossiucr',\n",
    "    'beltranbeto1',\n",
    "    'SellaEnrique',\n",
    "]"
   ]
  },
  {
   "cell_type": "code",
   "execution_count": 3,
   "metadata": {
    "collapsed": true
   },
   "outputs": [],
   "source": [
    "g = nx.DiGraph()"
   ]
  },
  {
   "cell_type": "code",
   "execution_count": 4,
   "metadata": {
    "collapsed": false
   },
   "outputs": [
    {
     "name": "stdout",
     "output_type": "stream",
     "text": [
      "fetched 5000 followers so far.\n",
      "fetched 10000 followers so far.\n",
      "fetched 15000 followers so far.\n",
      "fetched 20000 followers so far.\n",
      "fetched 24920 followers so far.\n",
      "fetched 1381 followers so far.\n",
      "fetched 1389 followers so far.\n",
      "fetched 5000 followers so far.\n",
      "fetched 10000 followers so far.\n",
      "fetched 15000 followers so far.\n",
      "fetched 20000 followers so far.\n",
      "fetched 25000 followers so far.\n",
      "fetched 30000 followers so far.\n",
      "fetched 35000 followers so far.\n",
      "fetched 38171 followers so far.\n",
      "Switching to API Credentials #16\n",
      "fetched 4711 followers so far.\n",
      "fetched 2337 followers so far.\n",
      "fetched 256 followers so far.\n",
      "fetched 1833 followers so far.\n",
      "fetched 5000 followers so far.\n",
      "fetched 10000 followers so far.\n",
      "fetched 15000 followers so far.\n",
      "fetched 20000 followers so far.\n",
      "fetched 21936 followers so far.\n",
      "fetched 726 followers so far.\n",
      "fetched 58 followers so far.\n"
     ]
    }
   ],
   "source": [
    "for name in cuentas:\n",
    "    u = TW.conn_.get_user(name)\n",
    "    fids = TW.traer_seguidores(screen_name=name)\n",
    "    g.add_edges_from([(fid, u.id) for fid in fids])"
   ]
  },
  {
   "cell_type": "code",
   "execution_count": 5,
   "metadata": {
    "collapsed": true
   },
   "outputs": [],
   "source": [
    "# saving to file"
   ]
  },
  {
   "cell_type": "code",
   "execution_count": 7,
   "metadata": {
    "collapsed": false
   },
   "outputs": [],
   "source": [
    "graphpath = join(DATA_PATH, 'red1.graphml')\n",
    "nx.write_graphml(g, graphpath)"
   ]
  },
  {
   "cell_type": "code",
   "execution_count": 8,
   "metadata": {
    "collapsed": false
   },
   "outputs": [
    {
     "data": {
      "text/plain": [
       "97718"
      ]
     },
     "execution_count": 8,
     "metadata": {},
     "output_type": "execute_result"
    }
   ],
   "source": [
    "g.number_of_edges()"
   ]
  },
  {
   "cell_type": "code",
   "execution_count": 9,
   "metadata": {
    "collapsed": false
   },
   "outputs": [
    {
     "data": {
      "text/plain": [
       "88798"
      ]
     },
     "execution_count": 9,
     "metadata": {},
     "output_type": "execute_result"
    }
   ],
   "source": [
    "g.number_of_nodes()"
   ]
  }
 ],
 "metadata": {
  "kernelspec": {
   "display_name": "Python 2",
   "language": "python",
   "name": "python2"
  },
  "language_info": {
   "codemirror_mode": {
    "name": "ipython",
    "version": 2
   },
   "file_extension": ".py",
   "mimetype": "text/x-python",
   "name": "python",
   "nbconvert_exporter": "python",
   "pygments_lexer": "ipython2",
   "version": "2.7.11+"
  }
 },
 "nbformat": 4,
 "nbformat_minor": 0
}
